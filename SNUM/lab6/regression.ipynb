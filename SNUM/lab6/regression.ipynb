{
 "cells": [
  {
   "cell_type": "markdown",
   "metadata": {},
   "source": [
    "## REGRESSION"
   ]
  },
  {
   "cell_type": "markdown",
   "metadata": {},
   "source": [
    "**Question** Do you remember what the regression is?"
   ]
  },
  {
   "cell_type": "markdown",
   "metadata": {},
   "source": [
    "Today's analysis we will run on dataset 'car-mpg' which has the following columns: cylinders, displacement, horsepower, weight, acceleration, model year, origin and mpg. Mpg is decision attribute and stands for miles per gallon, which basically means the reverse of combustion (pl. spalanie). The dataset comes from https://archive.ics.uci.edu/ml/datasets/auto+mpg However, it does not have the original data, but normalized version."
   ]
  },
  {
   "cell_type": "code",
   "execution_count": 2,
   "metadata": {},
   "outputs": [],
   "source": [
    "import pandas as pd\n",
    "import numpy as np\n",
    "import matplotlib.pyplot as plt\n",
    "from sklearn import datasets, linear_model\n",
    "from sklearn.metrics import mean_squared_error, r2_score\n",
    "from scipy.stats import f, f_oneway\n",
    "import statsmodels.api as sm\n",
    "%matplotlib inline\n",
    "plt.style.use('ggplot')"
   ]
  },
  {
   "cell_type": "code",
   "execution_count": 31,
   "metadata": {},
   "outputs": [
    {
     "data": {
      "text/html": [
       "<div>\n",
       "<style scoped>\n",
       "    .dataframe tbody tr th:only-of-type {\n",
       "        vertical-align: middle;\n",
       "    }\n",
       "\n",
       "    .dataframe tbody tr th {\n",
       "        vertical-align: top;\n",
       "    }\n",
       "\n",
       "    .dataframe thead th {\n",
       "        text-align: right;\n",
       "    }\n",
       "</style>\n",
       "<table border=\"1\" class=\"dataframe\">\n",
       "  <thead>\n",
       "    <tr style=\"text-align: right;\">\n",
       "      <th></th>\n",
       "      <th>0</th>\n",
       "      <th>1</th>\n",
       "      <th>2</th>\n",
       "      <th>3</th>\n",
       "      <th>4</th>\n",
       "      <th>5</th>\n",
       "      <th>6</th>\n",
       "      <th>7</th>\n",
       "    </tr>\n",
       "  </thead>\n",
       "  <tbody>\n",
       "    <tr>\n",
       "      <th>0</th>\n",
       "      <td>1.0</td>\n",
       "      <td>0.617571</td>\n",
       "      <td>0.456522</td>\n",
       "      <td>0.536150</td>\n",
       "      <td>0.238095</td>\n",
       "      <td>0.0</td>\n",
       "      <td>0.0</td>\n",
       "      <td>18.0</td>\n",
       "    </tr>\n",
       "    <tr>\n",
       "      <th>1</th>\n",
       "      <td>1.0</td>\n",
       "      <td>0.728682</td>\n",
       "      <td>0.646739</td>\n",
       "      <td>0.589736</td>\n",
       "      <td>0.208333</td>\n",
       "      <td>0.0</td>\n",
       "      <td>0.0</td>\n",
       "      <td>15.0</td>\n",
       "    </tr>\n",
       "    <tr>\n",
       "      <th>2</th>\n",
       "      <td>1.0</td>\n",
       "      <td>0.645995</td>\n",
       "      <td>0.565217</td>\n",
       "      <td>0.516870</td>\n",
       "      <td>0.178571</td>\n",
       "      <td>0.0</td>\n",
       "      <td>0.0</td>\n",
       "      <td>18.0</td>\n",
       "    </tr>\n",
       "    <tr>\n",
       "      <th>3</th>\n",
       "      <td>1.0</td>\n",
       "      <td>0.609819</td>\n",
       "      <td>0.565217</td>\n",
       "      <td>0.516019</td>\n",
       "      <td>0.238095</td>\n",
       "      <td>0.0</td>\n",
       "      <td>0.0</td>\n",
       "      <td>16.0</td>\n",
       "    </tr>\n",
       "    <tr>\n",
       "      <th>4</th>\n",
       "      <td>1.0</td>\n",
       "      <td>0.604651</td>\n",
       "      <td>0.510870</td>\n",
       "      <td>0.520556</td>\n",
       "      <td>0.148810</td>\n",
       "      <td>0.0</td>\n",
       "      <td>0.0</td>\n",
       "      <td>17.0</td>\n",
       "    </tr>\n",
       "  </tbody>\n",
       "</table>\n",
       "</div>"
      ],
      "text/plain": [
       "     0         1         2         3         4    5    6     7\n",
       "0  1.0  0.617571  0.456522  0.536150  0.238095  0.0  0.0  18.0\n",
       "1  1.0  0.728682  0.646739  0.589736  0.208333  0.0  0.0  15.0\n",
       "2  1.0  0.645995  0.565217  0.516870  0.178571  0.0  0.0  18.0\n",
       "3  1.0  0.609819  0.565217  0.516019  0.238095  0.0  0.0  16.0\n",
       "4  1.0  0.604651  0.510870  0.520556  0.148810  0.0  0.0  17.0"
      ]
     },
     "execution_count": 31,
     "metadata": {},
     "output_type": "execute_result"
    }
   ],
   "source": [
    "data = pd.read_csv('car-mpg.csv', header=None)\n",
    "data.head()"
   ]
  },
  {
   "cell_type": "markdown",
   "metadata": {},
   "source": [
    "As the first step of the task let's get to know with our data and its distribution."
   ]
  },
  {
   "cell_type": "code",
   "execution_count": 32,
   "metadata": {},
   "outputs": [],
   "source": [
    "columns = ['cylinders', 'displacement', 'horsepower', 'weight', 'acceleration', 'model_year', 'origin', 'mpg']\n",
    "\n",
    "# TODO Iterate through the columns (attributes) in our dataset and draw their histograms. \n",
    "# Which attributes can be potentially more interesting in further analysis? \n"
   ]
  },
  {
   "cell_type": "markdown",
   "metadata": {},
   "source": [
    "### SIMPLE LINEAR REGRESSION"
   ]
  },
  {
   "cell_type": "markdown",
   "metadata": {},
   "source": [
    "**Task** Write your own function which calculates linear regression step by step and plot the results. <br/>\n",
    "*Hint* If you do not remember how it was calculated, look here: https://en.wikipedia.org/wiki/Simple_linear_regression"
   ]
  },
  {
   "cell_type": "code",
   "execution_count": 19,
   "metadata": {},
   "outputs": [],
   "source": [
    "def LinearRegressionOne(x, y):\n",
    "    #TODO write your linear regression function\n",
    "    x_m = x.mean()\n",
    "    y_m = y.mean()\n",
    "    a = sum((x - x_m) * (y - y_m)) / sum((x - x_m)**2)\n",
    "    b = y_m - a * x_m\n",
    "\n",
    "    return a,b # return parameters a and b of your linear function"
   ]
  },
  {
   "cell_type": "code",
   "execution_count": 20,
   "metadata": {},
   "outputs": [
    {
     "data": {
      "text/plain": [
       "(-28.860049132825566, 32.45397418066426)"
      ]
     },
     "execution_count": 20,
     "metadata": {},
     "output_type": "execute_result"
    }
   ],
   "source": [
    "LinearRegressionOne(data[2], data[7]) # TODO run your function on attributes 'horsepower' and 'mpg'"
   ]
  },
  {
   "cell_type": "markdown",
   "metadata": {},
   "source": [
    "**Task** As you already wrote your own function which calculates simple linear regression, you can now use implementation from sklearn package. This time split your data to train and test set (use first 40 observations as test ones) and plot your results. Compare the results from your own implementation and this one from sklearn. Did you get similar coefficients for your linear function?"
   ]
  },
  {
   "cell_type": "code",
   "execution_count": 29,
   "metadata": {},
   "outputs": [
    {
     "data": {
      "text/plain": [
       "array([[-28.86004913]])"
      ]
     },
     "execution_count": 29,
     "metadata": {},
     "output_type": "execute_result"
    }
   ],
   "source": [
    "# TODO simple linear regression with the usage of sklearn\n",
    "def LinearRegressionOneScikit(x, y):\n",
    "    model = linear_model.LinearRegression()\n",
    "    model.fit(np.array(x).reshape(-1, 1), np.array(y).reshape(-1, 1))\n",
    "    return model.coef_\n",
    "\n",
    "LinearRegressionOneScikit(data[2], data[7])"
   ]
  },
  {
   "cell_type": "markdown",
   "metadata": {},
   "source": [
    "#### Polynomial regression"
   ]
  },
  {
   "cell_type": "markdown",
   "metadata": {},
   "source": [
    "We do not have to limit to only simple line but we also can create some other shapes. Run the following codes:"
   ]
  },
  {
   "cell_type": "code",
   "execution_count": 47,
   "metadata": {},
   "outputs": [
    {
     "name": "stderr",
     "output_type": "stream",
     "text": [
      "C:\\Users\\macie\\AppData\\Local\\Temp\\ipykernel_9280\\4183739374.py:4: SettingWithCopyWarning: \n",
      "A value is trying to be set on a copy of a slice from a DataFrame.\n",
      "Try using .loc[row_indexer,col_indexer] = value instead\n",
      "\n",
      "See the caveats in the documentation: https://pandas.pydata.org/pandas-docs/stable/user_guide/indexing.html#returning-a-view-versus-a-copy\n",
      "  x['x^2']=x[2]**2\n"
     ]
    },
    {
     "data": {
      "text/plain": [
       "[<matplotlib.lines.Line2D at 0x26eba717c70>]"
      ]
     },
     "execution_count": 47,
     "metadata": {},
     "output_type": "execute_result"
    },
    {
     "data": {
      "image/png": "[encoded data removed]",
      "text/plain": [
       "<Figure size 640x480 with 1 Axes>"
      ]
     },
     "metadata": {},
     "output_type": "display_data"
    }
   ],
   "source": [
    "x = data.iloc[:,2:3]\n",
    "y = data.iloc[:,-1]\n",
    "\n",
    "x['x^2']=x[2]**2\n",
    "\n",
    "np_x = np.array(x)\n",
    "np_y = np.array(y)\n",
    "reg = linear_model.LinearRegression().fit(np_x, np_y)\n",
    "score = reg.score(np_x,np_y)\n",
    "\n",
    "x_line = np.array(np.linspace(0,1,100))\n",
    "y_line = reg.coef_[1]*x_line**2+ reg.coef_[0]*x_line+ reg.intercept_\n",
    "\n",
    "plt.scatter(x[2],y)\n",
    "plt.plot(x_line,y_line)"
   ]
  },
  {
   "cell_type": "code",
   "execution_count": 48,
   "metadata": {},
   "outputs": [
    {
     "name": "stderr",
     "output_type": "stream",
     "text": [
      "C:\\Users\\macie\\AppData\\Local\\Temp\\ipykernel_9280\\3957495816.py:4: SettingWithCopyWarning: \n",
      "A value is trying to be set on a copy of a slice from a DataFrame.\n",
      "Try using .loc[row_indexer,col_indexer] = value instead\n",
      "\n",
      "See the caveats in the documentation: https://pandas.pydata.org/pandas-docs/stable/user_guide/indexing.html#returning-a-view-versus-a-copy\n",
      "  x['x^2']=x[4]**2\n",
      "C:\\Users\\macie\\AppData\\Local\\Temp\\ipykernel_9280\\3957495816.py:5: SettingWithCopyWarning: \n",
      "A value is trying to be set on a copy of a slice from a DataFrame.\n",
      "Try using .loc[row_indexer,col_indexer] = value instead\n",
      "\n",
      "See the caveats in the documentation: https://pandas.pydata.org/pandas-docs/stable/user_guide/indexing.html#returning-a-view-versus-a-copy\n",
      "  x['x^3']=x[4]**3\n"
     ]
    },
    {
     "data": {
      "text/plain": [
       "[<matplotlib.lines.Line2D at 0x26eba7850d0>]"
      ]
     },
     "execution_count": 48,
     "metadata": {},
     "output_type": "execute_result"
    },
    {
     "data": {
      "image/png": "[encoded data removed]",
      "text/plain": [
       "<Figure size 640x480 with 1 Axes>"
      ]
     },
     "metadata": {},
     "output_type": "display_data"
    }
   ],
   "source": [
    "x = data.iloc[:,4:5]\n",
    "y = data.iloc[:,-1]\n",
    "\n",
    "x['x^2']=x[4]**2\n",
    "x['x^3']=x[4]**3\n",
    "\n",
    "np_x = np.array(x)\n",
    "np_y = np.array(y)\n",
    "reg = linear_model.LinearRegression().fit(np_x, np_y)\n",
    "score = reg.score(np_x,np_y)\n",
    "\n",
    "x_line = np.array(np.linspace(0,1,100))\n",
    "y_line =  reg.coef_[2]*x_line**3+ reg.coef_[1]*x_line**2+ reg.coef_[0]*x_line+ reg.intercept_\n",
    "\n",
    "plt.scatter(x[4],y)\n",
    "plt.plot(x_line,y_line)"
   ]
  },
  {
   "cell_type": "markdown",
   "metadata": {},
   "source": [
    "### MULTIPLE LINEAR REGRESSION"
   ]
  },
  {
   "cell_type": "markdown",
   "metadata": {},
   "source": [
    "**Question** Do you remember how the multiple linear regression works? <br/>"
   ]
  },
  {
   "cell_type": "markdown",
   "metadata": {},
   "source": [
    "#### GRADIENT DECENT ALGORITHM\n",
    "Gradient descent algorithm’s main objective is to minimise the cost function. It is one of the best optimisation algorithms to minimise errors (difference of actual value and predicted value). In a real world example, it is similar to find out a best direction to take a step downhill.\n",
    "\n",
    "**Task** This time you are about to fill missing values in multiple linear regression implementation with the usage of batch gradient decent algorithm."
   ]
  },
  {
   "cell_type": "code",
   "execution_count": 50,
   "metadata": {},
   "outputs": [
    {
     "name": "stdout",
     "output_type": "stream",
     "text": [
      "392\n"
     ]
    },
    {
     "data": {
      "text/plain": [
       "array([[ 2.77801712],\n",
       "       [ 1.51456903],\n",
       "       [ 1.88306875],\n",
       "       [ 2.23007572],\n",
       "       [ 5.02030511],\n",
       "       [ 6.08026859],\n",
       "       [ 4.49392222],\n",
       "       [10.04344052]])"
      ]
     },
     "execution_count": 50,
     "metadata": {},
     "output_type": "execute_result"
    }
   ],
   "source": [
    "x = data.iloc[:,:-1]\n",
    "y = data.iloc[:,-1:]\n",
    "\n",
    "# we add intercept to the vector of x to make it easier to processwith other values\n",
    "x['intercept'] = 1 \n",
    "\n",
    "n_iterations = 100 # TODO set the number of iterations\n",
    "\n",
    "learning_rate = 0.01 # TODO set learning rate  \n",
    "\n",
    "weights = np.zeros((x.shape[1], 1))\n",
    "\n",
    "print(x.shape[0])\n",
    "\n",
    "for _ in range(n_iterations):\n",
    "    y_pred = np.dot(x, weights)\n",
    "    residuals = y_pred - y\n",
    "    gradient_vector = np.dot(x.T, residuals)\n",
    "    weights -= learning_rate/x.shape[0] * gradient_vector\n",
    "\n",
    "# last weight is the value of intercept \n",
    "weights"
   ]
  },
  {
   "cell_type": "markdown",
   "metadata": {},
   "source": [
    "**Task** You do not need to write your own implementation of multiple linear regression, you can also use sklearn implementation. This time your function should have params: independent variables *x* and dependent variable *y* and return (or just print) score and coefficients of the function (.coef_ and .intercept_)."
   ]
  },
  {
   "cell_type": "code",
   "execution_count": 58,
   "metadata": {},
   "outputs": [
    {
     "name": "stdout",
     "output_type": "stream",
     "text": [
      "0.8180917738082362\n"
     ]
    },
    {
     "data": {
      "text/plain": [
       "array([[ -2.63758008,   7.99990787,  -3.02421131, -22.97490448,\n",
       "          1.63552668,   8.5886846 ,   2.86000053,   0.        ]])"
      ]
     },
     "execution_count": 58,
     "metadata": {},
     "output_type": "execute_result"
    }
   ],
   "source": [
    "def MultipleLinearRegression(x, y):\n",
    "    # TODO here goes your code\n",
    "    np_x = np.array(x)\n",
    "    np_y = np.array(y)\n",
    "    model = linear_model.LinearRegression()\n",
    "    model.intercept_ = 1\n",
    "    model.fit(np_x, np_y)\n",
    "    print(model.score(np_x, np_y))\n",
    "    return model.coef_\n",
    "    \n",
    "\n",
    "MultipleLinearRegression(x, y)"
   ]
  },
  {
   "cell_type": "markdown",
   "metadata": {},
   "source": [
    "**Question** Compare the results from two above methods. Are they similar?"
   ]
  },
  {
   "cell_type": "markdown",
   "metadata": {},
   "source": [
    "## SIGNIFICANCE REGRESSION COEFFICIENT"
   ]
  },
  {
   "cell_type": "markdown",
   "metadata": {},
   "source": [
    "We can statistically check if the model (or specific parameter) is significant."
   ]
  },
  {
   "cell_type": "markdown",
   "metadata": {},
   "source": [
    "#### GLOBAL"
   ]
  },
  {
   "cell_type": "markdown",
   "metadata": {},
   "source": [
    "**Task** Implement global test for checking significance. Fill the following methods according to your knowledge from the lecture."
   ]
  },
  {
   "cell_type": "code",
   "execution_count": null,
   "metadata": {},
   "outputs": [],
   "source": [
    "def getSSR(y,y_pred):\n",
    "    #TODO\n",
    "    return \n",
    "\n",
    "def getSSE(y,y_pred):\n",
    "    #TODO\n",
    "    return \n",
    "\n",
    "def getF(y, y_pred, n, m):\n",
    "    #TODO\n",
    "    return \n",
    "\n",
    "def getSignificanceRegressionCoefficient(x,y):\n",
    "    #TODO\n",
    "    return F,p"
   ]
  },
  {
   "cell_type": "code",
   "execution_count": null,
   "metadata": {},
   "outputs": [],
   "source": [
    "xx = data.iloc[:,:-1].values\n",
    "yy = data.iloc[:,-1:].values[:,0]"
   ]
  },
  {
   "cell_type": "code",
   "execution_count": null,
   "metadata": {},
   "outputs": [],
   "source": [
    "F,p = getSignificanceRegressionCoefficient(xx,yy)\n",
    "print(F)\n",
    "if p < 0.05:\n",
    "    print(\" confirm \" + str(p))\n",
    "else:\n",
    "    print(\" reject \" + str(p))"
   ]
  },
  {
   "cell_type": "markdown",
   "metadata": {},
   "source": [
    "Let's check the correctness of your function."
   ]
  },
  {
   "cell_type": "code",
   "execution_count": null,
   "metadata": {},
   "outputs": [],
   "source": [
    "sm_stats = sm.OLS(yy, sm.add_constant(xx)).fit()\n",
    "print(sm_stats.fvalue)"
   ]
  },
  {
   "cell_type": "markdown",
   "metadata": {},
   "source": [
    "#### LOCAL"
   ]
  },
  {
   "cell_type": "markdown",
   "metadata": {},
   "source": [
    "**Task** Now check the significance of each criterion. As the equation for global version is more general, we can use the function that was previously written."
   ]
  },
  {
   "cell_type": "code",
   "execution_count": null,
   "metadata": {},
   "outputs": [],
   "source": [
    "#TODO"
   ]
  },
  {
   "cell_type": "markdown",
   "metadata": {},
   "source": [
    "## OUTLIERS"
   ]
  },
  {
   "cell_type": "markdown",
   "metadata": {},
   "source": [
    "**Question** What is an outlier?"
   ]
  },
  {
   "cell_type": "markdown",
   "metadata": {},
   "source": [
    "Let's look at the boxplot below. The points which are at the top and bottom of chart are outliers."
   ]
  },
  {
   "cell_type": "code",
   "execution_count": 54,
   "metadata": {},
   "outputs": [
    {
     "data": {
      "image/png": "[encoded data removed]",
      "text/plain": [
       "<Figure size 300x600 with 1 Axes>"
      ]
     },
     "metadata": {},
     "output_type": "display_data"
    }
   ],
   "source": [
    "fig, ax1 = plt.subplots(figsize=(3, 6))\n",
    "plt.boxplot(data[4], 1)\n",
    "plt.show()"
   ]
  },
  {
   "cell_type": "markdown",
   "metadata": {},
   "source": [
    "The method that is used in this type of charts to determine outliers bases on quartiles. Firstly, we need to calculate IQR which stands for interquartile range and is the difference between the third and the first quartile. Usually stating the limit of whiskers is: [Q1-IQR * 1.5, Q3 + IQR * 1.5]. All values that are outside this range are treated as outliers. It is connected with normal distribution and distance greater than 3 std dev."
   ]
  },
  {
   "cell_type": "markdown",
   "metadata": {},
   "source": [
    "However, this method cannot cope correctly with multidimensional data. There can be outliers that are still close to median but overall are far from other points. "
   ]
  },
  {
   "cell_type": "markdown",
   "metadata": {},
   "source": [
    "We will use *statsmodel* package which calculates a few interesting measures."
   ]
  },
  {
   "cell_type": "code",
   "execution_count": 55,
   "metadata": {},
   "outputs": [
    {
     "data": {
      "text/html": [
       "<div>\n",
       "<style scoped>\n",
       "    .dataframe tbody tr th:only-of-type {\n",
       "        vertical-align: middle;\n",
       "    }\n",
       "\n",
       "    .dataframe tbody tr th {\n",
       "        vertical-align: top;\n",
       "    }\n",
       "\n",
       "    .dataframe thead th {\n",
       "        text-align: right;\n",
       "    }\n",
       "</style>\n",
       "<table border=\"1\" class=\"dataframe\">\n",
       "  <thead>\n",
       "    <tr style=\"text-align: right;\">\n",
       "      <th></th>\n",
       "      <th>dfb_cylinders</th>\n",
       "      <th>dfb_displacement</th>\n",
       "      <th>dfb_horsepower</th>\n",
       "      <th>dfb_weight</th>\n",
       "      <th>dfb_acceleration</th>\n",
       "      <th>dfb_model_year</th>\n",
       "      <th>dfb_origin</th>\n",
       "      <th>cooks_d</th>\n",
       "      <th>standard_resid</th>\n",
       "      <th>hat_diag</th>\n",
       "      <th>dffits_internal</th>\n",
       "      <th>student_resid</th>\n",
       "      <th>dffits</th>\n",
       "    </tr>\n",
       "  </thead>\n",
       "  <tbody>\n",
       "    <tr>\n",
       "      <th>0</th>\n",
       "      <td>0.149282</td>\n",
       "      <td>-0.021409</td>\n",
       "      <td>-0.031690</td>\n",
       "      <td>-0.061572</td>\n",
       "      <td>0.012817</td>\n",
       "      <td>-0.079705</td>\n",
       "      <td>0.021783</td>\n",
       "      <td>0.007391</td>\n",
       "      <td>1.689373</td>\n",
       "      <td>0.017805</td>\n",
       "      <td>0.227457</td>\n",
       "      <td>1.693466</td>\n",
       "      <td>0.228009</td>\n",
       "    </tr>\n",
       "    <tr>\n",
       "      <th>1</th>\n",
       "      <td>0.009129</td>\n",
       "      <td>0.009879</td>\n",
       "      <td>0.016853</td>\n",
       "      <td>-0.028737</td>\n",
       "      <td>0.010857</td>\n",
       "      <td>-0.014861</td>\n",
       "      <td>-0.000579</td>\n",
       "      <td>0.000353</td>\n",
       "      <td>0.367664</td>\n",
       "      <td>0.017946</td>\n",
       "      <td>0.049701</td>\n",
       "      <td>0.367251</td>\n",
       "      <td>0.049645</td>\n",
       "    </tr>\n",
       "    <tr>\n",
       "      <th>2</th>\n",
       "      <td>0.095248</td>\n",
       "      <td>-0.012133</td>\n",
       "      <td>0.047838</td>\n",
       "      <td>-0.093244</td>\n",
       "      <td>0.021120</td>\n",
       "      <td>-0.046328</td>\n",
       "      <td>-0.008468</td>\n",
       "      <td>0.004310</td>\n",
       "      <td>1.229393</td>\n",
       "      <td>0.019572</td>\n",
       "      <td>0.173699</td>\n",
       "      <td>1.230213</td>\n",
       "      <td>0.173814</td>\n",
       "    </tr>\n",
       "    <tr>\n",
       "      <th>3</th>\n",
       "      <td>0.047541</td>\n",
       "      <td>-0.018843</td>\n",
       "      <td>0.026841</td>\n",
       "      <td>-0.034825</td>\n",
       "      <td>0.013350</td>\n",
       "      <td>-0.023969</td>\n",
       "      <td>-0.011712</td>\n",
       "      <td>0.000775</td>\n",
       "      <td>0.492683</td>\n",
       "      <td>0.021861</td>\n",
       "      <td>0.073655</td>\n",
       "      <td>0.492198</td>\n",
       "      <td>0.073582</td>\n",
       "    </tr>\n",
       "    <tr>\n",
       "      <th>4</th>\n",
       "      <td>0.166939</td>\n",
       "      <td>-0.060634</td>\n",
       "      <td>0.027323</td>\n",
       "      <td>-0.070768</td>\n",
       "      <td>-0.011399</td>\n",
       "      <td>-0.058356</td>\n",
       "      <td>0.001045</td>\n",
       "      <td>0.007476</td>\n",
       "      <td>1.640072</td>\n",
       "      <td>0.019084</td>\n",
       "      <td>0.228762</td>\n",
       "      <td>1.643693</td>\n",
       "      <td>0.229267</td>\n",
       "    </tr>\n",
       "    <tr>\n",
       "      <th>...</th>\n",
       "      <td>...</td>\n",
       "      <td>...</td>\n",
       "      <td>...</td>\n",
       "      <td>...</td>\n",
       "      <td>...</td>\n",
       "      <td>...</td>\n",
       "      <td>...</td>\n",
       "      <td>...</td>\n",
       "      <td>...</td>\n",
       "      <td>...</td>\n",
       "      <td>...</td>\n",
       "      <td>...</td>\n",
       "      <td>...</td>\n",
       "    </tr>\n",
       "    <tr>\n",
       "      <th>387</th>\n",
       "      <td>-0.020033</td>\n",
       "      <td>-0.000269</td>\n",
       "      <td>0.006696</td>\n",
       "      <td>0.012212</td>\n",
       "      <td>-0.006055</td>\n",
       "      <td>0.034577</td>\n",
       "      <td>-0.019155</td>\n",
       "      <td>0.000349</td>\n",
       "      <td>0.362243</td>\n",
       "      <td>0.018269</td>\n",
       "      <td>0.049415</td>\n",
       "      <td>0.361834</td>\n",
       "      <td>0.049359</td>\n",
       "    </tr>\n",
       "    <tr>\n",
       "      <th>388</th>\n",
       "      <td>0.006583</td>\n",
       "      <td>-0.020696</td>\n",
       "      <td>0.008191</td>\n",
       "      <td>0.025776</td>\n",
       "      <td>-0.044878</td>\n",
       "      <td>-0.005101</td>\n",
       "      <td>0.011007</td>\n",
       "      <td>0.000600</td>\n",
       "      <td>-0.415262</td>\n",
       "      <td>0.023779</td>\n",
       "      <td>-0.064811</td>\n",
       "      <td>-0.414815</td>\n",
       "      <td>-0.064741</td>\n",
       "    </tr>\n",
       "    <tr>\n",
       "      <th>389</th>\n",
       "      <td>-0.058754</td>\n",
       "      <td>0.029140</td>\n",
       "      <td>0.068237</td>\n",
       "      <td>-0.045877</td>\n",
       "      <td>-0.084620</td>\n",
       "      <td>0.262453</td>\n",
       "      <td>-0.087121</td>\n",
       "      <td>0.011348</td>\n",
       "      <td>1.941096</td>\n",
       "      <td>0.020648</td>\n",
       "      <td>0.281847</td>\n",
       "      <td>1.948130</td>\n",
       "      <td>0.282868</td>\n",
       "    </tr>\n",
       "    <tr>\n",
       "      <th>390</th>\n",
       "      <td>0.019040</td>\n",
       "      <td>0.009695</td>\n",
       "      <td>-0.021770</td>\n",
       "      <td>-0.004832</td>\n",
       "      <td>-0.019809</td>\n",
       "      <td>-0.043734</td>\n",
       "      <td>0.051242</td>\n",
       "      <td>0.001008</td>\n",
       "      <td>-0.634682</td>\n",
       "      <td>0.017219</td>\n",
       "      <td>-0.084011</td>\n",
       "      <td>-0.634189</td>\n",
       "      <td>-0.083946</td>\n",
       "    </tr>\n",
       "    <tr>\n",
       "      <th>391</th>\n",
       "      <td>0.007782</td>\n",
       "      <td>0.006350</td>\n",
       "      <td>-0.010217</td>\n",
       "      <td>-0.004205</td>\n",
       "      <td>-0.009325</td>\n",
       "      <td>-0.014913</td>\n",
       "      <td>0.021712</td>\n",
       "      <td>0.000171</td>\n",
       "      <td>-0.246055</td>\n",
       "      <td>0.019361</td>\n",
       "      <td>-0.034573</td>\n",
       "      <td>-0.245755</td>\n",
       "      <td>-0.034531</td>\n",
       "    </tr>\n",
       "  </tbody>\n",
       "</table>\n",
       "<p>392 rows × 13 columns</p>\n",
       "</div>"
      ],
      "text/plain": [
       "     dfb_cylinders  dfb_displacement  dfb_horsepower  dfb_weight  \\\n",
       "0         0.149282         -0.021409       -0.031690   -0.061572   \n",
       "1         0.009129          0.009879        0.016853   -0.028737   \n",
       "2         0.095248         -0.012133        0.047838   -0.093244   \n",
       "3         0.047541         -0.018843        0.026841   -0.034825   \n",
       "4         0.166939         -0.060634        0.027323   -0.070768   \n",
       "..             ...               ...             ...         ...   \n",
       "387      -0.020033         -0.000269        0.006696    0.012212   \n",
       "388       0.006583         -0.020696        0.008191    0.025776   \n",
       "389      -0.058754          0.029140        0.068237   -0.045877   \n",
       "390       0.019040          0.009695       -0.021770   -0.004832   \n",
       "391       0.007782          0.006350       -0.010217   -0.004205   \n",
       "\n",
       "     dfb_acceleration  dfb_model_year  dfb_origin   cooks_d  standard_resid  \\\n",
       "0            0.012817       -0.079705    0.021783  0.007391        1.689373   \n",
       "1            0.010857       -0.014861   -0.000579  0.000353        0.367664   \n",
       "2            0.021120       -0.046328   -0.008468  0.004310        1.229393   \n",
       "3            0.013350       -0.023969   -0.011712  0.000775        0.492683   \n",
       "4           -0.011399       -0.058356    0.001045  0.007476        1.640072   \n",
       "..                ...             ...         ...       ...             ...   \n",
       "387         -0.006055        0.034577   -0.019155  0.000349        0.362243   \n",
       "388         -0.044878       -0.005101    0.011007  0.000600       -0.415262   \n",
       "389         -0.084620        0.262453   -0.087121  0.011348        1.941096   \n",
       "390         -0.019809       -0.043734    0.051242  0.001008       -0.634682   \n",
       "391         -0.009325       -0.014913    0.021712  0.000171       -0.246055   \n",
       "\n",
       "     hat_diag  dffits_internal  student_resid    dffits  \n",
       "0    0.017805         0.227457       1.693466  0.228009  \n",
       "1    0.017946         0.049701       0.367251  0.049645  \n",
       "2    0.019572         0.173699       1.230213  0.173814  \n",
       "3    0.021861         0.073655       0.492198  0.073582  \n",
       "4    0.019084         0.228762       1.643693  0.229267  \n",
       "..        ...              ...            ...       ...  \n",
       "387  0.018269         0.049415       0.361834  0.049359  \n",
       "388  0.023779        -0.064811      -0.414815 -0.064741  \n",
       "389  0.020648         0.281847       1.948130  0.282868  \n",
       "390  0.017219        -0.084011      -0.634189 -0.083946  \n",
       "391  0.019361        -0.034573      -0.245755 -0.034531  \n",
       "\n",
       "[392 rows x 13 columns]"
      ]
     },
     "execution_count": 55,
     "metadata": {},
     "output_type": "execute_result"
    }
   ],
   "source": [
    "data.columns = ['cylinders', 'displacement', 'horsepower', 'weight', 'acceleration', 'model_year', 'origin', 'mpg']\n",
    "\n",
    "model = sm.OLS(data.iloc[:,-1], data.iloc[:,:-1])\n",
    "results = model.fit()\n",
    "influence = results.get_influence()\n",
    "sm_fr = influence.summary_frame()\n",
    "sm_fr"
   ]
  },
  {
   "cell_type": "markdown",
   "metadata": {},
   "source": [
    "**Task** Visualize residuals (*standard_resid*) with the usage of scatterplot. Draw also horizontal line on y-value = 0. Look at the chart. Are these values in a narrow row on y-value or you can identify that there are some outliers?"
   ]
  },
  {
   "cell_type": "code",
   "execution_count": null,
   "metadata": {},
   "outputs": [],
   "source": [
    "#TODO"
   ]
  },
  {
   "cell_type": "markdown",
   "metadata": {},
   "source": [
    "#### DFFITS"
   ]
  },
  {
   "cell_type": "markdown",
   "metadata": {},
   "source": [
    "This measure calculates the influence of i-th example on our regression equation by omitting this observation and comparing this model to previous one. Boundary values for our influential observations are +/- 2 * sqrt(1/number of observations)"
   ]
  },
  {
   "cell_type": "markdown",
   "metadata": {},
   "source": [
    "**Task** Draw a plot where you visualise values of dffits as vertical lines (see: plt.vlines()) and horizontal lines (plt.axhline()) equal to boundaries of influential observations."
   ]
  },
  {
   "cell_type": "code",
   "execution_count": null,
   "metadata": {},
   "outputs": [],
   "source": [
    "#TODO"
   ]
  },
  {
   "cell_type": "markdown",
   "metadata": {},
   "source": [
    "**Task** Get indices of those observations that are influential for diffits."
   ]
  },
  {
   "cell_type": "code",
   "execution_count": null,
   "metadata": {},
   "outputs": [],
   "source": [
    "#TODO"
   ]
  },
  {
   "cell_type": "markdown",
   "metadata": {},
   "source": [
    "#### COOK'S DISTANCE"
   ]
  },
  {
   "cell_type": "markdown",
   "metadata": {},
   "source": [
    "Comparing to the previous, there is also made checking the influence of each observation. However, this time we check the difference of coefficients in our regression equation while we omit the i-th observation. The boundary of the influence is very often set to 4/number of observations."
   ]
  },
  {
   "cell_type": "markdown",
   "metadata": {},
   "source": [
    "**Task** Once again draw a plot where you visualise values of cooks_d as vertical lines and horizontal line equal to boundary of influential observations. *Tip* It might be useful to visualize square root of the values to make the chart more transparent."
   ]
  },
  {
   "cell_type": "code",
   "execution_count": null,
   "metadata": {},
   "outputs": [],
   "source": [
    "#TODO"
   ]
  },
  {
   "cell_type": "markdown",
   "metadata": {},
   "source": [
    "**Task** Get indices of those observations that are influential for Cook's distance."
   ]
  },
  {
   "cell_type": "code",
   "execution_count": null,
   "metadata": {},
   "outputs": [],
   "source": [
    "#TODO"
   ]
  },
  {
   "cell_type": "markdown",
   "metadata": {},
   "source": [
    "**Task** Check if there are elements that appear on both lists. Maybe one list is subset of the second?"
   ]
  },
  {
   "cell_type": "code",
   "execution_count": null,
   "metadata": {},
   "outputs": [],
   "source": [
    "#TODO"
   ]
  }
 ],
 "metadata": {
  "kernelspec": {
   "display_name": "Python 3",
   "language": "python",
   "name": "python3"
  },
  "language_info": {
   "codemirror_mode": {
    "name": "ipython",
    "version": 3
   },
   "file_extension": ".py",
   "mimetype": "text/x-python",
   "name": "python",
   "nbconvert_exporter": "python",
   "pygments_lexer": "ipython3",
   "version": "3.9.13"
  }
 },
 "nbformat": 4,
 "nbformat_minor": 2
}
