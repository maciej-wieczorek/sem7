{
  "cells": [
    {
      "cell_type": "markdown",
      "metadata": {
        "id": "ebvqJaNU9bkH"
      },
      "source": [
        "# Elementy Inteligencji Obliczeniowej - Sieci Neuronowe\n",
        "\n",
        "\n",
        "---\n",
        "\n",
        "**Prowadzący:** Jakub Bednarek<br>\n",
        "**Kontakt:** jakub.bednarek@put.poznan.pl<br>\n",
        "**Materiały:** [Strona WWW](http://jakub.bednarek.pracownik.put.poznan.pl)\n",
        "\n",
        "---"
      ]
    },
    {
      "cell_type": "markdown",
      "metadata": {
        "id": "i0tVMrm99g5w"
      },
      "source": [
        "## Uwaga\n",
        "\n",
        "* **Aby wykonać polecenia należy najpierw przejść do trybu 'playground'. File -> Open in Playground Mode**\n",
        "* Nowe funkcje Colab pozwalają na autouzupełnianie oraz czytanie dokumentacji"
      ]
    },
    {
      "cell_type": "markdown",
      "metadata": {
        "id": "Wlq47LA0BuBB"
      },
      "source": [
        "## Cel ćwiczeń:\n",
        "\n",
        "* wprowadzenie biblioteki TensorFlow,\n",
        "* prezentacja podejścia Eager oraz Graph Execution,\n",
        "* ukazanie różnic i podobieństw pomiędzy NumPy a TensorFlow,\n",
        "* algorytm wstecznej propagacji błędu w TensorFlow"
      ]
    },
    {
      "cell_type": "markdown",
      "metadata": {
        "id": "C0AoiF16OTow"
      },
      "source": [
        "## Tensorflow\n",
        "\n",
        "Tensorflow to biblioteka przeznaczona do uczenia maszynowego oraz przetwarzania Big Data. Jej podstawy zostały zbudowane na wzór NumPy, którego poszczególne elementy zostały zaprezentowane na poprzednich zajęciach.\n",
        "Co wyróżnia Tensorflow to możliwość korzystania zarówno z CPU, GPU jak i łączenia jednostek obliczeniowych w klastry.\n",
        "\n",
        "Korzystając z Colab nie potrzebujesz wykonywać żadnych dodatkowych kroków w celu konfiguracji.\n",
        "\n",
        "Najnowszą wersją biblioteki jest TensorFlow 2.x. Aby ją aktywować wywołaj poniższe polecenie.\n"
      ]
    },
    {
      "cell_type": "code",
      "execution_count": 1,
      "metadata": {
        "colab": {
          "base_uri": "https://localhost:8080/",
          "height": 35
        },
        "id": "2ovUb2T9CbQv",
        "outputId": "202e5a14-fc20-4caf-e673-39819cbff9db"
      },
      "outputs": [
        {
          "name": "stderr",
          "output_type": "stream",
          "text": [
            "UsageError: Line magic function `%tensorflow_version` not found.\n"
          ]
        }
      ],
      "source": [
        "%tensorflow_version 2.x"
      ]
    },
    {
      "cell_type": "markdown",
      "metadata": {
        "id": "kyOQAsNXECp0"
      },
      "source": [
        "## Model działania biblioteki Tensorflow."
      ]
    },
    {
      "cell_type": "markdown",
      "metadata": {
        "id": "uUuN3WIZEFaT"
      },
      "source": [
        "### Eager Execution"
      ]
    },
    {
      "cell_type": "markdown",
      "metadata": {
        "id": "QBy3wd9GSXa0"
      },
      "source": [
        "Tensorflow w wersji 2.x pozwala na prawie identyczne wykonanie operacji jak w przypadku biblioteki NumPy, poznanej na poprzednich zajęciach. Operacje wykonywane są w momencie ich wywołania. Podejście takie nazywa się **Eager Execution**.\n",
        "\n",
        "Poniżej przedstawione zostało porównanie wykonania tego samego zadania w NumPy oraz w Tensorflow:"
      ]
    },
    {
      "cell_type": "code",
      "execution_count": 2,
      "metadata": {
        "id": "jl7PpJ5OOVNj"
      },
      "outputs": [],
      "source": [
        "# import bibliotek\n",
        "import tensorflow as tf\n",
        "import numpy as np"
      ]
    },
    {
      "cell_type": "code",
      "execution_count": 3,
      "metadata": {
        "colab": {
          "base_uri": "https://localhost:8080/",
          "height": 285
        },
        "id": "GKGuFNGnTa9c",
        "outputId": "da95dd3a-9d4e-4e58-dd2d-0d4d9ae61de1"
      },
      "outputs": [
        {
          "name": "stdout",
          "output_type": "stream",
          "text": [
            "NumPy array:\n",
            " [[-0.05469146 -0.54402551  0.60119349 -1.1149996  -1.14955212]\n",
            " [-0.1244965   0.89866728  2.23875306  0.97998668  0.25481066]\n",
            " [-1.51617654 -1.82755423  1.93391861  0.95630089  0.46343213]\n",
            " [-0.07382008 -0.45344417  0.23933761 -0.179791   -0.26036953]\n",
            " [ 0.3229876  -1.06728598  0.15455877 -0.75262176  1.37790382]] \n",
            "\n",
            "Tensorflow array:\n",
            " tf.Tensor(\n",
            "[[ 0.76877105 -0.15219204  0.97979224  1.1458946  -1.2636032 ]\n",
            " [ 1.2851795   1.14184     0.12328346  0.5240047   1.0478711 ]\n",
            " [ 0.25665468 -0.9012929   0.0260771   0.21276277 -0.14867617]\n",
            " [ 0.9117681   0.8026085  -1.333959    1.7993922  -0.06212867]\n",
            " [ 0.766496   -0.03015319 -0.21829164 -1.0201904   0.851102  ]], shape=(5, 5), dtype=float32) \n",
            "\n"
          ]
        }
      ],
      "source": [
        "# przykładowa alokacja danych:\n",
        "np_arr = np.zeros([5, 5])\n",
        "tf_arr = tf.zeros([5, 5])\n",
        "\n",
        "np_arr = np.ones([5, 5])\n",
        "tf_arr = tf.ones([5, 5])\n",
        "\n",
        "np_arr = np.array([1, 2, 3, 4, 5])\n",
        "tf_arr = tf.constant([1, 2, 3, 4, 5])\n",
        "\n",
        "np_arr = np.random.normal(0, 1, [5, 5])\n",
        "tf_arr = tf.random.normal([5, 5], 0, 1)\n",
        "\n",
        "print('NumPy array:\\n', np_arr, '\\n')\n",
        "print('Tensorflow array:\\n', tf_arr, '\\n')"
      ]
    },
    {
      "cell_type": "markdown",
      "metadata": {
        "id": "IDAxwKNDUMrH"
      },
      "source": [
        "### Zadanie 1\n",
        "\n",
        "Zaalokuj tablicę samych zer o wymiarze 2 x 2. Następnie utwórz tablicę jedynek o tym samym wymiarze (wykorzystaj funkcję ones_like)."
      ]
    },
    {
      "cell_type": "code",
      "execution_count": 4,
      "metadata": {
        "id": "lnt4cj4vWhms"
      },
      "outputs": [
        {
          "name": "stdout",
          "output_type": "stream",
          "text": [
            "tf.Tensor(\n",
            "[[0. 0.]\n",
            " [0. 0.]], shape=(2, 2), dtype=float32)\n",
            "tf.Tensor(\n",
            "[[1. 1.]\n",
            " [1. 1.]], shape=(2, 2), dtype=float32)\n"
          ]
        }
      ],
      "source": [
        "# alokacja zer\n",
        "z = tf.zeros([2, 2])\n",
        "\n",
        "# alokacja jedynek\n",
        "o = tf.ones_like(z)\n",
        "\n",
        "print(z)\n",
        "print(o)"
      ]
    },
    {
      "cell_type": "markdown",
      "metadata": {
        "id": "RAy5wHavW0Gc"
      },
      "source": [
        "Również operacje na danych wyglądają podobnie w Tensorflow:"
      ]
    },
    {
      "cell_type": "code",
      "execution_count": 5,
      "metadata": {
        "colab": {
          "base_uri": "https://localhost:8080/",
          "height": 35
        },
        "id": "CsL2HNwZXcYl",
        "outputId": "1c08568b-b802-4150-d60e-568518e83539"
      },
      "outputs": [
        {
          "name": "stdout",
          "output_type": "stream",
          "text": [
            "tf.Tensor([11.224972   3.4641016  6.       ], shape=(3,), dtype=float32)\n"
          ]
        }
      ],
      "source": [
        "a = tf.constant([1, 2, 3], dtype=tf.float32)\n",
        "b = tf.constant([5, 2, 3], dtype=tf.float32)\n",
        "\n",
        "c = a + b\n",
        "d = a * b\n",
        "e = a ** 2 + b ** 3\n",
        "f = tf.sqrt(e)\n",
        "\n",
        "print(f)"
      ]
    },
    {
      "cell_type": "markdown",
      "metadata": {
        "id": "xIo9g-OZI-jv"
      },
      "source": [
        "### Zmienne w TensorFlow"
      ]
    },
    {
      "cell_type": "markdown",
      "metadata": {
        "id": "RZW2QB-HJDxu"
      },
      "source": [
        "Tensorflow posiada specjalny rodzaj obiektów, które reprezentują **zmienne uczone**. Poniżej zostało zaprezentowane wykorzystanie zmiennych uczonych.\n",
        "\n",
        "Każda operacja w TensorFlow tworzy na wyjściu **tensor**, przez który można automatycznie propagować błąd."
      ]
    },
    {
      "cell_type": "code",
      "execution_count": 6,
      "metadata": {
        "colab": {
          "base_uri": "https://localhost:8080/",
          "height": 34
        },
        "id": "tpLPMsD0JeB_",
        "outputId": "d09ad9c4-bf89-4e86-932a-0fd595b98899"
      },
      "outputs": [
        {
          "name": "stdout",
          "output_type": "stream",
          "text": [
            "tf.Tensor([[32.738976 35.55328  34.83511  34.634743 28.379602]], shape=(1, 5), dtype=float32)\n"
          ]
        }
      ],
      "source": [
        "# zmienne uczone dla pojedynczej warstwy neuronowej (5 neuronów)\n",
        "w = tf.Variable(tf.random.uniform([128, 5]))\n",
        "b = tf.Variable(tf.random.uniform([5]))\n",
        "\n",
        "# definicja warstwy w pełni połączonej\n",
        "def neuron_layer(x):\n",
        "  return x @ w + b\n",
        "\n",
        "# losowy wektor wejściowy i inferencja (odpytanie) sieci neuronowej\n",
        "x = tf.random.uniform([1, 128])\n",
        "y = neuron_layer(x)\n",
        "\n",
        "print(y)"
      ]
    },
    {
      "cell_type": "markdown",
      "metadata": {
        "id": "_ah23dQ-KYdI"
      },
      "source": [
        "Zmienne w TensorFlow można dowolnie modyfikować operacją *assign* (oraz jej pochodnymi wersjami).\n",
        "\n",
        "**Uwaga:** Zmienne oraz wszelkie tensory w TensorFlow można przekształcić do tablicy Numpy wywołując funkcję *.numpy()*."
      ]
    },
    {
      "cell_type": "code",
      "execution_count": 7,
      "metadata": {
        "colab": {
          "base_uri": "https://localhost:8080/",
          "height": 85
        },
        "id": "DFaFBDxdKe4S",
        "outputId": "a5294563-3937-4735-88ec-1194599c3d99"
      },
      "outputs": [
        {
          "name": "stdout",
          "output_type": "stream",
          "text": [
            "[0.2602681  0.7652414  0.11881542 0.51892805 0.8795848 ]\n",
            "[1.2602681  0.7652414  0.11881542 1.518928   0.8795848 ]\n",
            "[0.2602681  0.7652414  0.11881542 0.51892805 0.8795848 ]\n",
            "[1. 2. 3. 4. 5.]\n"
          ]
        }
      ],
      "source": [
        "# inicjalizacja zmiennej z losowymi wartościami\n",
        "b = tf.Variable(tf.random.uniform([5]))\n",
        "\n",
        "print(b.numpy())\n",
        "\n",
        "# wykonanie operacji dodawania na zmiennej\n",
        "b.assign_add([1, 0, 0, 1, 0])\n",
        "\n",
        "print(b.numpy())\n",
        "\n",
        "# wykonanie operacji odejmowania na zmiennej\n",
        "b.assign_sub([1, 0, 0, 1, 0])\n",
        "\n",
        "print(b.numpy())\n",
        "\n",
        "# wykonanie operacji przypisania na zmiennej\n",
        "b.assign([1, 2, 3, 4, 5])\n",
        "\n",
        "print(b.numpy())"
      ]
    },
    {
      "cell_type": "markdown",
      "metadata": {
        "id": "-Sh_nuvpLfJu"
      },
      "source": [
        "### Funkcje aktywacji i straty w TensorFlow"
      ]
    },
    {
      "cell_type": "markdown",
      "metadata": {
        "id": "zbUbMgx0LkXd"
      },
      "source": [
        "TensorFlow jest biblioteką przygotowaną do **Machine Learningu**. Wiele operacji bardzo często się powtarza w wielu zagadnieniach, np. funkcje aktywacji, funkcje straty, metryki, rodzaje warstw (operacji), itp. Stąd, w bilbiotece tej możemy znaleźć już gotowe komponenty, które można z łatwością wykorzystać.\n",
        "\n",
        "Poniżej zaprezentowane zostały gotowe funkcje aktywacji oraz straty."
      ]
    },
    {
      "cell_type": "code",
      "execution_count": 8,
      "metadata": {
        "colab": {
          "base_uri": "https://localhost:8080/",
          "height": 153
        },
        "id": "v_Z84f4NMI0_",
        "outputId": "2ba4bdaf-7ee3-44ba-a283-aadd755bbbff"
      },
      "outputs": [
        {
          "name": "stdout",
          "output_type": "stream",
          "text": [
            "Relu: [0.         0.04789972 0.         0.56083655 0.89201474]\n",
            "Sigmoid: [0.47796175 0.5119726  0.2722963  0.6366461  0.70930576]\n",
            "Softmax: [0.14018816 0.16062868 0.0572938  0.26828024 0.3736092 ]\n",
            "Tangens hiperboliczny: [-0.08798202  0.04786312 -0.754363    0.50859785  0.71238744] \n",
            "\n",
            "MSE: tf.Tensor([0.2883939  0.13545081], shape=(2,), dtype=float32)\n",
            "MAE: tf.Tensor([0.4887209  0.27368274], shape=(2,), dtype=float32)\n",
            "CE: tf.Tensor([4.8261843 3.738117 ], shape=(2,), dtype=float32)\n"
          ]
        }
      ],
      "source": [
        "a = tf.random.uniform([5], -1, 1)\n",
        "\n",
        "a_relu = tf.nn.relu(a)\n",
        "a_sigmoid = tf.nn.sigmoid(a)\n",
        "a_softmax = tf.nn.softmax(a, -1)\n",
        "a_tanh = tf.nn.tanh(a)\n",
        "\n",
        "print('Relu:', a_relu.numpy())  # max(x, 0)\n",
        "print('Sigmoid:', a_sigmoid.numpy())  # wyjście w przedziale (0, 1)\n",
        "print('Softmax:', a_softmax.numpy())  # wyjście w przedziale (0, 1) a suma jest równa 1\n",
        "print('Tangens hiperboliczny:', a_tanh.numpy(), '\\n')\n",
        "\n",
        "y = tf.random.uniform([2, 5], 0, 1)  # batch o wielkości 2\n",
        "y_hat = tf.random.uniform([2, 5], 0, 1)\n",
        "\n",
        "y_mse = tf.losses.mean_squared_error(y_hat, y)  # dla każdego elementu w batchu błąd jest wyliczony osobno\n",
        "y_mae = tf.losses.mean_absolute_error(y_hat, y)\n",
        "y_ce = tf.losses.categorical_crossentropy(y_hat, y, from_logits=True)  # from_logits oznacza, że funkcja aktywacji (softmax) będzie wywołana wewnątrz funkcji straty, a więc wyjście z sieci powinno być liniowe\n",
        "\n",
        "print('MSE:', y_mse)\n",
        "print('MAE:', y_mae)\n",
        "print('CE:', y_ce)\n"
      ]
    },
    {
      "cell_type": "markdown",
      "metadata": {
        "id": "RxSdsMUWD9ci"
      },
      "source": [
        "### Graph Execution"
      ]
    },
    {
      "cell_type": "markdown",
      "metadata": {
        "id": "hJIwUfddR9Gl"
      },
      "source": [
        "Na potrzeby optymalizacji Google wprowadziło (przywróciło) możliwość definiowania grafów przetwarzania. Przetwarzanie grafowe polega na przekształceniu ciągu operacji do grafu, który następnie jest optymalizowany (np. poprzez zastąpienie instrukcji 'for' przez 'tf.while_loop').\n",
        "\n",
        "Aby zoptymalizować działanie kodu należy umieścić dane operacje w definicji funkcji opatrzonej w adnotację  @tf.function.\n",
        "\n",
        "**Uwaga**\n",
        "Po przekształceniu na graf tracimy możliwość łatwego debugowania kodu. Operacje przekształcane są do niskopoziomowej reprezentacji TensorFlow, znanej z wersji 1.x."
      ]
    },
    {
      "cell_type": "code",
      "execution_count": 9,
      "metadata": {
        "id": "ets0mmTSUVsK"
      },
      "outputs": [],
      "source": [
        "import time\n",
        "\n",
        "# funkcja pomocnicza do mierzenia czasu wykonania funkcji\n",
        "\n",
        "def speed_test(iters, func, *arg):\n",
        "\n",
        "  start = time.time()\n",
        "  for i in range(iters):\n",
        "    func(*arg)\n",
        "  end = time.time()\n",
        "\n",
        "  return end - start"
      ]
    },
    {
      "cell_type": "code",
      "execution_count": 10,
      "metadata": {
        "id": "OS0cUgx3E5um"
      },
      "outputs": [],
      "source": [
        "# część wspólna operacji wywołanych w graph i eager execution\n",
        "def eager_op(inputs):\n",
        "  x = inputs ** 2\n",
        "  z = tf.transpose(tf.ones_like(x))\n",
        "\n",
        "  for i in range(100):\n",
        "    # @ oznacza operację matmul\n",
        "    x = inputs @ x\n",
        "\n",
        "  # ile razy wywoła się ta linia w graph a ile w eager execution i dlaczego?\n",
        "  print('Ops function executed')\n",
        "\n",
        "  return x\n",
        "\n",
        "# graph execution wykonuje dokładnie te same operacje\n",
        "@tf.function\n",
        "def graph_op(inputs):\n",
        "  return eager_op(inputs)"
      ]
    },
    {
      "cell_type": "code",
      "execution_count": 11,
      "metadata": {
        "colab": {
          "base_uri": "https://localhost:8080/",
          "height": 272
        },
        "id": "gn-jG-qcTbEo",
        "outputId": "1c682b48-a2b1-446d-fa96-147c933e6859"
      },
      "outputs": [
        {
          "name": "stdout",
          "output_type": "stream",
          "text": [
            "------------ Eager Execution -----------\n"
          ]
        },
        {
          "name": "stdout",
          "output_type": "stream",
          "text": [
            "Ops function executed\n",
            "Ops function executed\n",
            "Ops function executed\n",
            "Ops function executed\n",
            "Ops function executed\n",
            "Ops function executed\n",
            "Ops function executed\n",
            "Ops function executed\n",
            "Ops function executed\n",
            "Ops function executed\n",
            "9.663177013397217 sec\n",
            "------------ Graph Execution -----------\n",
            "Ops function executed\n",
            "10.289285659790039 sec\n"
          ]
        }
      ],
      "source": [
        "a = tf.random.uniform([1024, 1024], 0, 1)\n",
        "\n",
        "print('------------ Eager Execution -----------')\n",
        "print(speed_test(10, eager_op, a), 'sec')\n",
        "\n",
        "print('------------ Graph Execution -----------')\n",
        "print(speed_test(10, graph_op, a), 'sec')"
      ]
    },
    {
      "cell_type": "markdown",
      "metadata": {
        "id": "gQ-XK5nUEUWd"
      },
      "source": [
        "## Algorytm wstecznej propagacji błędu"
      ]
    },
    {
      "cell_type": "markdown",
      "metadata": {
        "id": "ZWWYxKRmguWl"
      },
      "source": [
        "Do wyprowadzenia wzorów na aktualizację zmiennych w algorytmie niezbędna jest znajomość zagadnień **chain-rule** oraz **multivariable chain-rule**. Poza podstawową wiedzą z matematyki są to jedyne niezbędne zagadnienia.\n",
        "\n",
        "### Chain-rule & Multivariable Chain-rule\n",
        "\n",
        "Poniżej zostały zaprezentowane zagadnienia **chain-rule** oraz **multivariable chain-rule** w sposób intuicyjny (i graficzny). Poniższa notacja została zaczerpnięta z sieci neuronowych, aby skojarzyć związek z algorytmem **backpropagation**.\n",
        "\n",
        "#### Chain-rule\n",
        "\n",
        "Jest to reguła opierająca się na pochodnej funkcji złożonej. W graficzny sposób można to pokazać następująco:\n",
        "\n",
        "![chain-rule](https://drive.google.com/uc?id=1S8pSUrrOzoisKr8d8YJaQHNLYgEq2dpk)\n",
        "\n",
        "Gdzie $L$ to pewna funkcja dla której liczymy pochodną względem zmiennej $w$. Jak widać, $L$ zależy od $y$, który zależy od $z$ który dopiero zależy bezpośrednio od $w$. Zależności tworzą łańcuch, skąd pochodzi nazwa **chain-rule**.\n",
        "\n",
        "#### Multivariable Chain-rule\n",
        "\n",
        "W przypadku gdy \"łańcuch\" w pewnym momencie się rozgałęzia, dalej możemy korzystać z zasady **chain-rule**, jednak tym razem przybiera ona formę nieco inną (lecz dalej intuicyjną):\n",
        "\n",
        "![multivariable-chain-rule](https://drive.google.com/uc?id=13WH6JXd_5rnTkyToKrBcCZDPdUXCqoT8)\n",
        "\n",
        "W tym przypadku, pochodna funkcji $L$ po zmiennej $z$ wyrażona jest jako suma pochodnych funkcji złożonych odpowiednio $y_1$ oraz $y_2$. Nic nie stoi na przeszkodzie, żeby stosować tę regułę także w sytuacji większej liczby rozgałęzień niż dwa, po prostu zawsze się dodaje pochodne z osobnych \"ścieżek\".\n",
        "\n",
        "<!-- \\\\ %ib: chyba nie jest to tak dobry przykład, jak myślałem...\n",
        "\n",
        "##### **Przykład:**\n",
        "Załóżmy, że mamy funkcję $f(x) = x\\cdot ln(x)$. Możemy ją przedstawić jako $f(x) = g(x)\\cdot h(x)$, gdzie $g(x)=x$ i $h(x)=ln(x)$. Korzystając z multivariable chain-rule możemy wyprowadzić:\n",
        "\n",
        "$$\\frac{\\partial f(x)}{\\partial x} = \\frac{\\partial g(x)h(x)}{\\partial x} = \\frac{\\partial g(x)h(x)}{\\partial g(x)} \\frac{\\partial g(x)}{\\partial x} + \\frac{\\partial g(x)h(x)}{\\partial h(x)} \\frac{\\partial h(x)}{\\partial x} = h(x)\\cdot 1 + g(x)\\cdot \\frac{1}{x} = ln(x) + 1$$\n",
        "\n",
        "Zwróć uwagę, że wzór na pochodną iloczynu jest szczególnym przypadkiem multivariable chain-rule:\n",
        "$$(g(x)h(x))' = g'(x)h(x) + g(x)h'(x) = 1\\cdot ln(x) + x\\cdot\\frac{1}{x} = ln(x) + 1$$ -->\n",
        "\n",
        "\\\\\n",
        "\n",
        "### Backpropagation\n",
        "\n",
        "Algorytm **wstecznej propagacji błędu** jest właściwie jedynie rozwinięciem **reguły delta**, która została przedstawiona na pierwszych zajęciach. Podobnie jak poprzednio, uczenie neuronów opisane jest w następujący sposób:\n",
        "\n",
        "$$w_i' = w_i - \\mu \\frac{\\partial L}{\\partial w_i} $$\n",
        "\n",
        "Jedyną różnicą jest sposób w jaki się wylicza gradient. Nawiązując do powyższych, krótkich wyjaśnień **chain-rule**, w podobny sposób należy traktować sieci neuronowe.\n",
        "\n",
        "**Dla warstwy wyjściowej** gradient można przedstawić następująco:\n",
        "\n",
        "$$\\frac{\\partial L}{\\partial w_{ij}} = \\frac{\\partial L}{\\partial y_j} \\frac{\\partial y_j}{\\partial w_{ji}} = \\frac{\\partial L}{\\partial y_j} \\frac{\\partial y_j}{\\partial z_j}\\frac{\\partial z_j}{\\partial w_{ji}}$$\n",
        "\n",
        "Albo inaczej:\n",
        "\n",
        "$$\\frac{\\partial L}{\\partial w_{ij}} = \\delta_j o_i$$\n",
        "\n",
        "gdzie $w_{ji}$ oznacza wagę połączenia pomiędzy neuronem $j$ a $i$, $\\delta_j = \\frac{\\partial L}{\\partial y_j} \\frac{\\partial y_j}{\\partial z_j}$ oraz $o_i$ to wyjście z neuronu $i$ (dla neuronów w pierwszej warstwie będą to wejścia do sieci, natomiast w kolejnych warstwach będą to wyjścia z neuronów poprzednich).\n",
        "\n",
        "**Dla warstwy ukrytej** sprawa nieco bardziej się komplikuje. Weźmy jako przykład następującą prostą sieć z 2 warstwami i łącznie 3 neuronami:\n",
        "\n",
        "![simplenet](https://drive.google.com/uc?id=1NXHjEWUX3gAbn8NnHh9eGWdQaSNDavKW)\n",
        "\n",
        "Dla warstwy wyjściowej możemy skorzystać jedynie z **chain-rule** uzyskując następujące równanie:\n",
        "\n",
        "$$\\frac{\\partial L}{\\partial w^{2}_{i}} = \\frac{\\partial L}{\\partial y^{2}_i} \\frac{\\partial y^{2}_i}{\\partial z^{2}_i}\\frac{\\partial z^{2}_i}{\\partial w^{2}_{i}} = \\delta^2_i y^1_1$$\n",
        "\n",
        "Przy obliczaniu gradientu dla warstwy ukrytej najpierw stosujemy  proste **chain-rule**:\n",
        "\n",
        "$$\\frac{\\partial L}{\\partial w^{1}_{1}} = \\frac{\\partial L}{\\partial y^{1}_1} \\frac{\\partial y^{1}_1}{\\partial z^{1}_1}\\frac{\\partial z^{1}_1}{\\partial w^{1}_{1}}$$\n",
        "\n",
        "W tym momencie można zauważyć, że jest możliwe zastosowanie **multivariable chain-rule** do wyrażenia $\\frac{\\partial L}{\\partial y^{1}_1}$ (ponieważ $L$ nie zależy bezpośrednio od $y^{1}_1$, oraz występuje \"rozgałęzienie\" od $y$):\n",
        "\n",
        "$$\\frac{\\partial L}{\\partial y^{1}_1} = \\frac{\\partial L}{\\partial y^{2}_1} \\frac{\\partial y^{2}_1}{\\partial y^{1}_1} + \\frac{\\partial L}{\\partial y^{2}_2} \\frac{\\partial y^{2}_2}{\\partial y^{1}_1} = \\frac{\\partial L}{\\partial y^{2}_1} \\frac{\\partial y^{2}_1}{\\partial z^{2}_1}\\frac{\\partial z^{2}_1}{\\partial y^{1}_1} + \\frac{\\partial L}{\\partial y^{2}_2} \\frac{\\partial y^{2}_2}{\\partial z^{2}_2} \\frac{\\partial z^{2}_2}{\\partial y^{1}_1}$$\n",
        "\n",
        "Tu można zauważyć, że $\\frac{\\partial z^{2}_2}{\\partial y^{1}_1} = w^2_2$ oraz $\\frac{\\partial L}{\\partial y^{2}_2} \\frac{\\partial y^{2}_2}{\\partial z^{2}_2} = \\delta^2_2$ (przy założeniu liniowej funkcji aktywacji), co daje nam końcowo:\n",
        "\n",
        "$$\\frac{\\partial L}{\\partial y^{1}_1} = \\sum_i^2 \\delta^2_i w^2_i$$\n",
        "\n",
        "Podstawiając do wcześniejszego wzoru otrzymujemy:\n",
        "\n",
        "$$\\frac{\\partial L}{\\partial w^{1}_{1}} = \\sum_i^2 \\delta^2_i w^2_i \\frac{\\partial y^{1}_1}{\\partial z^{1}_1}\\frac{\\partial z^{1}_1}{\\partial w^{1}_{1}}$$\n",
        "\n",
        "Ostatecznie, za pomocą następujących podstawień możemy sprowadzić powyższe równanie do wersji spójnej z gradientem dla warstwy wyjściowej:\n",
        "\n",
        "$$\\sum_i^2 \\delta^2_i w^2_i \\frac{\\partial y^{1}_1}{\\partial z^{1}_1} = \\delta^1_1$$\n",
        "$$\\frac{\\partial z^{1}_1}{\\partial w^{1}_{1}} = x$$\n",
        "$$\\frac{\\partial L}{\\partial w^{1}_{1}} = \\delta^1_1 x$$\n",
        "\n",
        "\n",
        "\n",
        "---\n",
        "\n",
        "Podsumowując, zarówno dla warstwy wyjściowej jak i warstwy ukrytej gradienty możemy przedstawić w tej samej formie, składającej się z **błędu neuronu** ($\\delta$), oraz wyjścia z poprzedniej warstwy ($y$ lub $x$).\n",
        "\n",
        "$$\\frac{\\partial L}{\\partial w^{i}_{j}} = \\delta^i_j o^{(i-1)}$$"
      ]
    },
    {
      "cell_type": "code",
      "execution_count": null,
      "metadata": {
        "id": "YViUnHJSf5vT"
      },
      "outputs": [],
      "source": []
    },
    {
      "cell_type": "markdown",
      "metadata": {
        "id": "TJKj35Ykeqzn"
      },
      "source": [
        "### Automatyczna wsteczna propagacja błędu"
      ]
    },
    {
      "cell_type": "markdown",
      "metadata": {
        "id": "DA3PfOaWcE9q"
      },
      "source": [
        "Można rozpatrywać różne algorytmy optymalizacji działające na bazie algorytmu wstecznej propagacji błędu, który sam w sobie jest po prostu pewną strategią przydziału informacji o błędzie do zmiennych, a to jak na tej podstawie będziemy je modyfikować pozostaje otwartą kwestią. Jednym z prostszych optymalizatorów jest **Stochastic Gradient Descent** (SGD). Różni się od klasycznego Gradient Descent tym, że w jego przypadku gradient liczony jest w każdej iteracji dla losowo wybranego podzbioru danych uczących zamiast dla wszystkich. Innym popularnym optymalizatorem jest **ADAM** (od \"adaptive moment estimation\"), który każdą zmienną modyfikuje na podstawie jej statystycznych momentów (rzędu 1 i 2) gradientu w pewnym oknie czasowym. Ogólnie konstruowanie optymalizatorów opartych na gradiencie to cała osobna obszerna dziedzina naukowa. Przykładowo, na niektórych problemach ADAM ma znacznie szybszą zbieżność niż SGD, ale na innych zauważalnie gorzej radzi sobie z uogólnieniem wiedzy i w efekcie błąd na zbiorze testowym jest większy.\n",
        "\n",
        "Poniżej zaprezentowany został algorytm wstecznej propagacji błędu zaimplementowany w bibliotece TensorFlow. Przykład składa się z definicji sieci neuronowej, funkcji straty oraz jednego kroku uczenia przy użyciu gotowego optymalizatora."
      ]
    },
    {
      "cell_type": "markdown",
      "metadata": {
        "id": "gyUufSiJEgUH"
      },
      "source": [
        "### Prosta sieć neuronowa"
      ]
    },
    {
      "cell_type": "code",
      "execution_count": 12,
      "metadata": {
        "id": "Ra9SuKPAE1wU"
      },
      "outputs": [],
      "source": [
        "# zmienne uczone pojedynczego neuronu, który na wejście otrzymuje wektor 10 liczb.\n",
        "w = tf.Variable(tf.ones([10, 1]))\n",
        "b = tf.Variable(tf.ones([1]))\n",
        "\n",
        "# definicja 1-warstwowej sieci neuronowej z funkcją aktywacji relu\n",
        "# (@ jest aliasem do tf.matmul())\n",
        "def network(x):\n",
        "  return tf.nn.relu(x @ w + b)"
      ]
    },
    {
      "cell_type": "markdown",
      "metadata": {
        "id": "c97P9HzdEnID"
      },
      "source": [
        "### Funkcja straty"
      ]
    },
    {
      "cell_type": "markdown",
      "metadata": {
        "id": "JAaD7jSpyUmk"
      },
      "source": [
        "W poniższym kodzie tf.reduce_mean to odpowiednik np.mean i działa tak samo. Jako drugi argument można podać wymiar, po którym liczona będzie średnia (domyślnie liczona jest z wszystkich wymiarów). Jeżeli chodzi o *reduce* (nazywane również *fold*) w nazwie, to jest to schemat obliczeń często wykorzystywany w paradygmacie programowania funkcyjnego, i polega na rekurencyjnym przechodzeniu przez strukturę przy jednoczesnym konstruowaniu nowej, w pewnym sensie redukując tę strukturę (np. macierz liczb) do nowej struktury (np. liczby)."
      ]
    },
    {
      "cell_type": "code",
      "execution_count": 13,
      "metadata": {
        "id": "sqwbPkFiE2UZ"
      },
      "outputs": [],
      "source": [
        "# mean squared error jako funkcja straty\n",
        "def loss(y_pred, y_true):\n",
        "  return tf.reduce_mean((y_pred - y_true) ** 2)"
      ]
    },
    {
      "cell_type": "markdown",
      "metadata": {
        "id": "EWv0Fg36Epug"
      },
      "source": [
        "### Obliczenie gradientu"
      ]
    },
    {
      "cell_type": "code",
      "execution_count": 14,
      "metadata": {
        "colab": {
          "base_uri": "https://localhost:8080/",
          "height": 204
        },
        "id": "-ejn6iHQE2kw",
        "outputId": "c7566c02-35fc-462c-e41f-aea00caa9fcc"
      },
      "outputs": [
        {
          "name": "stdout",
          "output_type": "stream",
          "text": [
            "[<tf.Tensor: shape=(10, 1), dtype=float32, numpy=\n",
            "array([[5.9931426],\n",
            "       [5.392141 ],\n",
            "       [5.371768 ],\n",
            "       [5.0735826],\n",
            "       [5.8096285],\n",
            "       [5.436107 ],\n",
            "       [5.7291813],\n",
            "       [5.468576 ],\n",
            "       [4.551091 ],\n",
            "       [4.9588957]], dtype=float32)>, <tf.Tensor: shape=(1,), dtype=float32, numpy=array([10.175462], dtype=float32)>]\n"
          ]
        }
      ],
      "source": [
        "# wsteczna propagacja błędu obsługiwana jest przez optymalizatory dostępne w bibliotece TensorFlow; tutaj użyliśmy Adam'a.\n",
        "optimizer = tf.optimizers.Adam(0.001)\n",
        "#optimizer = tf.optimizers.SGD(0.001)  # a tutaj Stochastic Gradient Descent\n",
        "\n",
        "# wejście oraz pożądane wyjście z sieci neuronowej\n",
        "x = tf.random.uniform([32, 10])\n",
        "y_true = tf.ones([32, 1])\n",
        "\n",
        "# obiekt gradient tape pozwala na \"nagrywanie\" pochodnych operacji wykonanych wewnątrz struktury \"with ... :\"\n",
        "with tf.GradientTape() as tape:\n",
        "  y_pred = network(x)\n",
        "  l = loss(y_pred, y_true)\n",
        "\n",
        "# pobranie interesujących nas gradientów (tylko dla uczonych zmiennych!)\n",
        "grads = tape.gradient(l, [w, b])\n",
        "# oraz ich użycie przez optymalizator\n",
        "optimizer.apply_gradients(zip(grads, [w, b]))\n",
        "\n",
        "print(grads)"
      ]
    },
    {
      "cell_type": "markdown",
      "metadata": {
        "id": "idPo7uRZexv9"
      },
      "source": [
        "#### Zadanie 2"
      ]
    },
    {
      "cell_type": "markdown",
      "metadata": {
        "id": "IFKkCPhgezMI"
      },
      "source": [
        "Korzystając z wiedzy z tych i poprzednich zajęć stwórz sieć neuronową składającą się z 3 warstw o rozmiarach odpowiednio 1, 2, 1. Niech w pierwszej i drugiej warstwie funkcją aktywacji będzie sigmoid a wyjście z sieci funkcją liniową. Skorzystaj z funkcji straty MSE.\n",
        "\n",
        "Naucz sieć neuronową, aby wykonywała funkcję **sinus** (wejściem sieci niech będzie kąt wyrażony w radianach). Trening sieci powinien polegać na wykonaniu algorytmu wstecznej propagacji błędu **ITERS** razy. Każda iteracja niech przetwarza **batch** danych o rozmiarze 16. Do nauki sieci wykorzystaj algorytm **Stochastic Gradient Descent** (tf.optimizers.SGD).\n",
        "\n",
        "W celu optymalizacji szybkości działania, dodaj do definicji modelu adnotację @tf.function.\n",
        "\n",
        "Przy domyślnych parametrach wyjdzie zasadniczo linia prosta na zerze. Poeksperymentuj z prędkością uczenia i liczbą iteracji, by poprawić ten rezultat. Sprawdź, jak działa ReLU dla tego problemu. Dla sigmoidalnej funkcji aktywacji rezultat powinien przypominać następujący wykres:\n",
        "![alt text](https://www.cs.put.poznan.pl/ibladek/students/eio/img/expected_sine.png)\n"
      ]
    },
    {
      "cell_type": "code",
      "execution_count": 15,
      "metadata": {
        "id": "A2Urm0SzgDv-"
      },
      "outputs": [
        {
          "name": "stdout",
          "output_type": "stream",
          "text": [
            "Epochs: 2000/2000\r"
          ]
        },
        {
          "data": {
            "image/png": "[encoded data removed]",
            "text/plain": [
              "<Figure size 640x480 with 1 Axes>"
            ]
          },
          "metadata": {},
          "output_type": "display_data"
        }
      ],
      "source": [
        "import math\n",
        "import tensorflow as tf\n",
        "import numpy as np\n",
        "import matplotlib.pyplot as plt\n",
        "\n",
        "ITERS = 2000\n",
        "\n",
        "act = tf.nn.sigmoid\n",
        "\n",
        "def loss(y_pred, y_true):\n",
        "  return tf.reduce_mean((y_pred - y_true) ** 2)\n",
        "\n",
        "# pierwsza warstwa\n",
        "w1 = tf.Variable(tf.ones([1, 1]))\n",
        "b1 = tf.Variable(tf.ones([1]))\n",
        "\n",
        "# druga warstwa\n",
        "w2 = tf.Variable(tf.ones([1, 2]))\n",
        "b2 = tf.Variable(tf.ones([2]))\n",
        "\n",
        "# trzecia warstwa\n",
        "w3 = tf.Variable(tf.ones([2, 1]))\n",
        "b3 = tf.Variable(tf.ones([1]))\n",
        "\n",
        "def layer_1(x):\n",
        "  return act(x @ w1 + b1)\n",
        "\n",
        "def layer_2(x):\n",
        "  return act(x @ w2 + b2)\n",
        "\n",
        "def layer_3(x):\n",
        "  return act(x @ w3 + b3)\n",
        "\n",
        "@tf.function\n",
        "def network(x):  # obliczanie wyjścia sieci\n",
        "  return layer_3(layer_2(layer_1(x)))\n",
        "\n",
        "mu = 0.01  # prędkość uczenia\n",
        "variables = [w1, b1, w2, b2, w3, b3]\n",
        "optimizer = tf.optimizers.Adam(mu)\n",
        "\n",
        "for i in range(ITERS):\n",
        "  x = tf.random.uniform([16, 1], 0, math.pi * 2)  # dane wejściowe\n",
        "  y_true = tf.math.sin(x)                         # dane uczące (ground truth)\n",
        "\n",
        "  with tf.GradientTape() as tape:\n",
        "    y_pred = network(x)\n",
        "    l = loss(y_pred, y_true)\n",
        "\n",
        "  grads = tape.gradient(l, variables)\n",
        "  optimizer.apply_gradients(zip(grads, variables))\n",
        "\n",
        "  print(f\"Epochs: {i+1}/{ITERS}\", end='\\r')\n",
        "\n",
        "\n",
        "# testowanie sieci na zbiorze testowym\n",
        "xs = np.linspace(0, 2 * math.pi, 100, dtype=np.float32).reshape([100, 1])  # wymiary są zmieniane by xs zostało zaakceptowane jako wejście do sieci\n",
        "ys1 = np.sin(xs)\n",
        "ys2 = network(xs)\n",
        "plt.plot(xs, ys1, xs, ys2)\n",
        "plt.show()"
      ]
    },
    {
      "cell_type": "markdown",
      "metadata": {
        "id": "rePvYrKH51OD"
      },
      "source": [
        "#### Zadanie 3"
      ]
    },
    {
      "cell_type": "markdown",
      "metadata": {
        "id": "3_yWbmVHhCWj"
      },
      "source": [
        "Wykonaj ponownie zadanie 2, tym razem samodzielnie implementując algorytm backpropagation."
      ]
    },
    {
      "cell_type": "code",
      "execution_count": 16,
      "metadata": {
        "id": "zfcJ-fiiiK0i"
      },
      "outputs": [
        {
          "name": "stdout",
          "output_type": "stream",
          "text": [
            "Epochs: 1000/1000\r"
          ]
        },
        {
          "data": {
            "image/png": "[encoded data removed]",
            "text/plain": [
              "<Figure size 640x480 with 1 Axes>"
            ]
          },
          "metadata": {},
          "output_type": "display_data"
        }
      ],
      "source": [
        "import math\n",
        "import tensorflow as tf\n",
        "import numpy as np\n",
        "import matplotlib.pyplot as plt\n",
        "\n",
        "ITERS = 1000\n",
        "\n",
        "# pierwsza warstwa\n",
        "w1 = tf.Variable(tf.ones([1, 1]))\n",
        "b1 = tf.Variable(tf.ones([1]))\n",
        "\n",
        "# druga warstwa\n",
        "w2 = tf.Variable(tf.ones([1, 2]))\n",
        "b2 = tf.Variable(tf.ones([2]))\n",
        "\n",
        "# trzecia warstwa\n",
        "w3 = tf.Variable(tf.ones([2, 1]))\n",
        "b3 = tf.Variable(tf.ones([1]))\n",
        "\n",
        "def layer_1(x):\n",
        "  return act(x @ w1 + b1)\n",
        "\n",
        "def layer_2(x):\n",
        "  return act(x @ w2 + b2)\n",
        "\n",
        "def layer_3(x):\n",
        "  return act(x @ w3 + b3)\n",
        "\n",
        "@tf.function\n",
        "def network(x):  # obliczanie wyjścia sieci\n",
        "  return layer_3(layer_2(layer_1(x)))\n",
        "\n",
        "mu = 0.01  # prędkość uczenia\n",
        "for i in range(ITERS):\n",
        "  x = tf.random.uniform([16, 1], 0, math.pi * 2)  # dane wejściowe\n",
        "  y_true = tf.math.sin(x)                         # dane uczące (ground truth)\n",
        "\n",
        "  # propagacja wejścia sieci\n",
        "  z1 = x @ w1 + b1\n",
        "  y1 = act(z1)\n",
        "\n",
        "  z2 = y1 @ w2 + b2\n",
        "  y2 = act(z2)\n",
        "\n",
        "  z3 = y2 @ w3 + b3\n",
        "  y3 = act(z3)\n",
        "\n",
        "  y_pred = y3\n",
        "  l = loss(y_pred, y_true)\n",
        "\n",
        "  # grads = tape.gradient(l, variables)\n",
        "  # optimizer.apply_gradients(zip(grads, variables))\n",
        "\n",
        "  print(f\"Epochs: {i+1}/{ITERS}\", end='\\r')\n",
        "\n",
        "\n",
        "# testowanie sieci na zbiorze testowym\n",
        "xs = np.linspace(0, 2 * math.pi, 100, dtype=np.float32).reshape([100, 1])  # wymiary są zmieniane by xs zostało zaakceptowane jako wejście do sieci\n",
        "ys1 = np.sin(xs)\n",
        "ys2 = network(xs)\n",
        "plt.plot(xs, ys1, xs, ys2)\n",
        "plt.show()"
      ]
    }
  ],
  "metadata": {
    "accelerator": "GPU",
    "colab": {
      "provenance": []
    },
    "kernelspec": {
      "display_name": "Python 3",
      "name": "python3"
    },
    "language_info": {
      "codemirror_mode": {
        "name": "ipython",
        "version": 3
      },
      "file_extension": ".py",
      "mimetype": "text/x-python",
      "name": "python",
      "nbconvert_exporter": "python",
      "pygments_lexer": "ipython3",
      "version": "3.9.4"
    }
  },
  "nbformat": 4,
  "nbformat_minor": 0
}
