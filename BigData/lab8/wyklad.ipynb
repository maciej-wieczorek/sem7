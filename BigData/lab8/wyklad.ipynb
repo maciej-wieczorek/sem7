{
 "cells": [
  {
   "cell_type": "code",
   "execution_count": 1,
   "metadata": {},
   "outputs": [],
   "source": [
    "import pyspark\n",
    "from pyspark import SparkConf, SparkContext\n",
    "from pyspark.sql import SparkSession\n",
    "import sys\n",
    "import os\n",
    "\n",
    "os.environ['PYSPARK_PYTHON'] = sys.executable\n",
    "os.environ['PYSPARK_DRIVER_PYTHON'] = sys.executable\n",
    "\n",
    "conf = SparkConf().setAppName(\"Spark - RDD par\")\n",
    "sc = SparkContext(conf=conf)\n",
    "spark = SparkSession.builder.appName(\"Spark - RDD par\").getOrCreate()"
   ]
  },
  {
   "cell_type": "code",
   "execution_count": 2,
   "metadata": {},
   "outputs": [],
   "source": [
    "import os\n",
    "def remove_file(file):\n",
    "    if os.path.exists(file):\n",
    "        os.remove(file)\n",
    "remove_file(\"ign.csv\")"
   ]
  },
  {
   "cell_type": "code",
   "execution_count": 3,
   "metadata": {},
   "outputs": [
    {
     "data": {
      "text/plain": [
       "2019628"
      ]
     },
     "execution_count": 3,
     "metadata": {},
     "output_type": "execute_result"
    }
   ],
   "source": [
    "import requests\n",
    "r = requests.get(\"https://jankiewicz.pl/bigdata/bigdata-sp/ign.csv\", allow_redirects=True)\n",
    "open('ign.csv', 'wb').write(r.content)"
   ]
  },
  {
   "cell_type": "code",
   "execution_count": 4,
   "metadata": {},
   "outputs": [
    {
     "data": {
      "text/plain": [
       "18626"
      ]
     },
     "execution_count": 4,
     "metadata": {},
     "output_type": "execute_result"
    }
   ],
   "source": [
    "rawIgn = sc.textFile(\"ign.csv\")\n",
    "rawIgn.count()"
   ]
  },
  {
   "cell_type": "code",
   "execution_count": 5,
   "metadata": {},
   "outputs": [
    {
     "data": {
      "text/plain": [
       "',score_phrase,title,url,platform,score,genre,editors_choice,release_year,release_month,release_day'"
      ]
     },
     "execution_count": 5,
     "metadata": {},
     "output_type": "execute_result"
    }
   ],
   "source": [
    "rawIgn.first()"
   ]
  },
  {
   "cell_type": "code",
   "execution_count": 6,
   "metadata": {},
   "outputs": [
    {
     "data": {
      "text/plain": [
       "18626"
      ]
     },
     "execution_count": 6,
     "metadata": {},
     "output_type": "execute_result"
    }
   ],
   "source": [
    "import re\n",
    "tabIgn = rawIgn.map(lambda line: re.split(\",(?=(?:[^\\\"]*\\\"[^\\\"]*\\\")*[^\\\"]*$)\",line))\n",
    "tabIgn.count()"
   ]
  },
  {
   "cell_type": "code",
   "execution_count": 7,
   "metadata": {},
   "outputs": [
    {
     "data": {
      "text/plain": [
       "['',\n",
       " 'score_phrase',\n",
       " 'title',\n",
       " 'url',\n",
       " 'platform',\n",
       " 'score',\n",
       " 'genre',\n",
       " 'editors_choice',\n",
       " 'release_year',\n",
       " 'release_month',\n",
       " 'release_day']"
      ]
     },
     "execution_count": 7,
     "metadata": {},
     "output_type": "execute_result"
    }
   ],
   "source": [
    "tabIgn.first()"
   ]
  },
  {
   "cell_type": "code",
   "execution_count": 8,
   "metadata": {},
   "outputs": [],
   "source": [
    "PLATFORM = 4\n",
    "SCORE = 5\n",
    "GENRE = 6\n",
    "RELEASE_YEAR = 8"
   ]
  },
  {
   "cell_type": "code",
   "execution_count": 9,
   "metadata": {},
   "outputs": [],
   "source": [
    "gameInfosRdd = tabIgn.filter(lambda tab: len(tab)== 11 and len(tab[0])>0)"
   ]
  },
  {
   "cell_type": "code",
   "execution_count": 10,
   "metadata": {},
   "outputs": [
    {
     "data": {
      "text/plain": [
       "['0',\n",
       " 'Amazing',\n",
       " 'LittleBigPlanet PS Vita',\n",
       " '/games/littlebigplanet-vita/vita-98907',\n",
       " 'PlayStation Vita',\n",
       " '9.0',\n",
       " 'Platformer',\n",
       " 'Y',\n",
       " '2012',\n",
       " '9',\n",
       " '12']"
      ]
     },
     "execution_count": 10,
     "metadata": {},
     "output_type": "execute_result"
    }
   ],
   "source": [
    "gameInfosRdd.first()"
   ]
  },
  {
   "cell_type": "code",
   "execution_count": 14,
   "metadata": {},
   "outputs": [
    {
     "data": {
      "text/plain": [
       "pyspark.rdd.PipelinedRDD"
      ]
     },
     "execution_count": 14,
     "metadata": {},
     "output_type": "execute_result"
    }
   ],
   "source": [
    "# jakiego typu są g1, g2 i g3?\n",
    "g1 = gameInfosRdd.groupBy(lambda gi: gi[GENRE])\n",
    "type(g1)"
   ]
  },
  {
   "cell_type": "code",
   "execution_count": 15,
   "metadata": {},
   "outputs": [],
   "source": [
    "g2 = gameInfosRdd.map(lambda gi: (gi[GENRE],gi))"
   ]
  },
  {
   "cell_type": "code",
   "execution_count": null,
   "metadata": {},
   "outputs": [],
   "source": [
    "g3 = gameInfosRdd.keyBy(lambda gi: gi[GENRE]) # genre"
   ]
  },
  {
   "cell_type": "code",
   "execution_count": 16,
   "metadata": {},
   "outputs": [],
   "source": [
    "# Co wyliczają poniższe wyrażenia?\n",
    "# Jakiego typu są wyniki?\n",
    "# Czy wszystkie dają ten sam wynik?\n",
    "g4 = gameInfosRdd.keyBy(lambda gi: gi[GENRE]).aggregateByKey(0.0, lambda m,gi : m + float(gi[SCORE]), lambda mx,my: mx + my)"
   ]
  },
  {
   "cell_type": "code",
   "execution_count": 19,
   "metadata": {},
   "outputs": [],
   "source": [
    "g5 = gameInfosRdd.map(lambda gi: (gi[GENRE],gi)).groupByKey().\\\n",
    "mapValues(lambda gis: sum(list(map(lambda x:float(x[SCORE]), gis))))"
   ]
  },
  {
   "cell_type": "code",
   "execution_count": 20,
   "metadata": {},
   "outputs": [],
   "source": [
    "g6 = gameInfosRdd.map(lambda gi: (gi[GENRE],float(gi[SCORE]))).reduceByKey(lambda mx,my: mx + my)"
   ]
  },
  {
   "cell_type": "code",
   "execution_count": 17,
   "metadata": {},
   "outputs": [
    {
     "name": "stdout",
     "output_type": "stream",
     "text": [
      "CPU times: total: 31.2 ms\n",
      "Wall time: 2.39 s\n"
     ]
    },
    {
     "data": {
      "text/plain": [
       "('Platformer', 5914.5000000000055)"
      ]
     },
     "execution_count": 17,
     "metadata": {},
     "output_type": "execute_result"
    }
   ],
   "source": [
    "%%time\n",
    "g4.first()"
   ]
  },
  {
   "cell_type": "code",
   "execution_count": 21,
   "metadata": {},
   "outputs": [
    {
     "name": "stdout",
     "output_type": "stream",
     "text": [
      "CPU times: total: 31.2 ms\n",
      "Wall time: 2.41 s\n"
     ]
    },
    {
     "data": {
      "text/plain": [
       "('Platformer', 5914.5000000000055)"
      ]
     },
     "execution_count": 21,
     "metadata": {},
     "output_type": "execute_result"
    }
   ],
   "source": [
    "%%time\n",
    "g5.first()"
   ]
  },
  {
   "cell_type": "code",
   "execution_count": 22,
   "metadata": {},
   "outputs": [
    {
     "name": "stdout",
     "output_type": "stream",
     "text": [
      "CPU times: total: 0 ns\n",
      "Wall time: 2.3 s\n"
     ]
    },
    {
     "data": {
      "text/plain": [
       "('Platformer', 5914.5000000000055)"
      ]
     },
     "execution_count": 22,
     "metadata": {},
     "output_type": "execute_result"
    }
   ],
   "source": [
    "%%time\n",
    "g6.first()"
   ]
  },
  {
   "cell_type": "code",
   "execution_count": 26,
   "metadata": {},
   "outputs": [],
   "source": [
    "g7 = gameInfosRdd.map(lambda gi: (gi[GENRE],gi)).groupByKey().\\\n",
    "mapValues(lambda gis: sum(list(map(lambda x:float(x[SCORE]), gis))))"
   ]
  },
  {
   "cell_type": "code",
   "execution_count": 29,
   "metadata": {},
   "outputs": [
    {
     "data": {
      "text/plain": [
       "{'Platformer': 823,\n",
       " 'Puzzle': 776,\n",
       " 'Sports': 1916,\n",
       " 'Strategy': 1071,\n",
       " 'Fighting': 547,\n",
       " 'RPG': 980,\n",
       " '': 36,\n",
       " '\"Action, Adventure\"': 765,\n",
       " 'Adventure': 1175,\n",
       " 'Action': 3797}"
      ]
     },
     "execution_count": 29,
     "metadata": {},
     "output_type": "execute_result"
    }
   ],
   "source": [
    "g8 = gameInfosRdd.keyBy(lambda gi: gi[GENRE]).countByKey()\n",
    "{k: g8[k] for k in list(g8)[:10]}"
   ]
  },
  {
   "cell_type": "code",
   "execution_count": 49,
   "metadata": {},
   "outputs": [
    {
     "data": {
      "text/plain": [
       "[('Platformer', 823),\n",
       " ('Puzzle', 776),\n",
       " ('Strategy', 1071),\n",
       " ('', 36),\n",
       " ('\"Action, Adventure\"', 765),\n",
       " ('Action', 3797),\n",
       " ('Shooter', 1610),\n",
       " ('\"Strategy, RPG\"', 77),\n",
       " ('\"Action, Compilation\"', 89),\n",
       " ('\"Educational, Puzzle\"', 25)]"
      ]
     },
     "execution_count": 49,
     "metadata": {},
     "output_type": "execute_result"
    }
   ],
   "source": [
    "# countByKey jest akcją – punktem końcowym przetwarzania\n",
    "# Jak wyglądałaby transformacja wyliczająca dokładnie to samo, ale pozostawiająca dane w postaci RDD?\n",
    "\n",
    "gameInfosRdd.keyBy(lambda gi: gi[GENRE]).groupByKey().mapValues(lambda values: len(values)).take(10)"
   ]
  },
  {
   "cell_type": "code",
   "execution_count": 52,
   "metadata": {},
   "outputs": [
    {
     "data": {
      "text/plain": [
       "defaultdict(int,\n",
       "            {'PlayStation Vita': 155,\n",
       "             'iPad': 99,\n",
       "             'Xbox 360': 1631,\n",
       "             'PlayStation 3': 1356,\n",
       "             'Macintosh': 81,\n",
       "             'PC': 3370,\n",
       "             'iPhone': 842,\n",
       "             'Nintendo DS': 1045,\n",
       "             'Nintendo 3DS': 225,\n",
       "             'Android': 39,\n",
       "             'Wii': 1366,\n",
       "             'PlayStation 4': 277,\n",
       "             'Wii U': 114,\n",
       "             'Linux': 10,\n",
       "             'PlayStation Portable': 633,\n",
       "             'PlayStation': 952,\n",
       "             'Nintendo 64': 302,\n",
       "             'Saturn': 6,\n",
       "             'Lynx': 82,\n",
       "             'Game Boy': 22,\n",
       "             'Game Boy Color': 356,\n",
       "             'NeoGeo Pocket Color': 31,\n",
       "             'Game.Com': 3,\n",
       "             'Dreamcast': 286,\n",
       "             'Dreamcast VMU': 1,\n",
       "             'WonderSwan': 4,\n",
       "             'Arcade': 11,\n",
       "             'Nintendo 64DD': 7,\n",
       "             'PlayStation 2': 1686,\n",
       "             'WonderSwan Color': 1,\n",
       "             'Game Boy Advance': 623,\n",
       "             'Xbox': 821,\n",
       "             'GameCube': 509,\n",
       "             'DVD / HD Video Game': 1,\n",
       "             'Wireless': 910,\n",
       "             'Pocket PC': 1,\n",
       "             'N-Gage': 30,\n",
       "             'NES': 49,\n",
       "             'iPod': 17,\n",
       "             'Genesis': 58,\n",
       "             'TurboGrafx-16': 40,\n",
       "             'Super NES': 33,\n",
       "             'NeoGeo': 10,\n",
       "             'Master System': 13,\n",
       "             'Atari 5200': 2,\n",
       "             'TurboGrafx-CD': 3,\n",
       "             'Atari 2600': 5,\n",
       "             'Sega 32X': 16,\n",
       "             'Vectrex': 2,\n",
       "             'Commodore 64/128': 6,\n",
       "             'Sega CD': 1,\n",
       "             'Nintendo DSi': 254,\n",
       "             'Windows Phone': 14,\n",
       "             'Web Games': 1,\n",
       "             'Xbox One': 208,\n",
       "             'Windows Surface': 1,\n",
       "             'Ouya': 1,\n",
       "             'New Nintendo 3DS': 2,\n",
       "             'SteamOS': 1})"
      ]
     },
     "execution_count": 52,
     "metadata": {},
     "output_type": "execute_result"
    }
   ],
   "source": [
    "# Dokończ poniższy fragment kodu tak, aby wyznaczyć liczbę platform objętych recenzjami gier.\n",
    "gameInfosRdd.keyBy(lambda gi: gi[PLATFORM]).countByKey()"
   ]
  },
  {
   "cell_type": "code",
   "execution_count": 63,
   "metadata": {},
   "outputs": [],
   "source": [
    "# Do tej pory liczyliśmy sumy ocen... Jak wyglądałoby obliczenie średniej oceny\n",
    "# Podpowiedź: zastosuj metody: mapValues (może nie raz?), reduceByKey.\n",
    "result = gameInfosRdd.map(lambda gi: (gi[GENRE],gi)).mapValues(lambda x: (float(x[SCORE]), 1)).reduceByKey(lambda x,y: (x[0]+y[0], x[1]+y[1])).mapValues(lambda x: x[0] / x[1]).collect()"
   ]
  },
  {
   "cell_type": "code",
   "execution_count": 64,
   "metadata": {},
   "outputs": [
    {
     "data": {
      "text/plain": [
       "[('\"Compilation, Compilation\"', 9.5),\n",
       " ('Hardware', 9.15),\n",
       " ('\"Puzzle, RPG\"', 9.1),\n",
       " ('\"Other, Action\"', 9.0),\n",
       " ('\"Adventure, Episodic\"', 8.9)]"
      ]
     },
     "execution_count": 64,
     "metadata": {},
     "output_type": "execute_result"
    }
   ],
   "source": [
    "sorted(result, key=lambda v: v[1], reverse=True)[:5]"
   ]
  },
  {
   "cell_type": "code",
   "execution_count": 84,
   "metadata": {},
   "outputs": [
    {
     "data": {
      "text/plain": [
       "[('2012', ('2012', 1)),\n",
       " ('2013', ('2013', 1)),\n",
       " ('2013', ('2013', 1)),\n",
       " ('2013', ('2013', 1)),\n",
       " ('2013', ('2013', 1))]"
      ]
     },
     "execution_count": 84,
     "metadata": {},
     "output_type": "execute_result"
    }
   ],
   "source": [
    "gameInfosRdd.filter(lambda gi: gi[PLATFORM] == \"PlayStation 4\").map(lambda x : (x[RELEASE_YEAR], 1)).keyBy(lambda x : x[0]).take(5)"
   ]
  },
  {
   "cell_type": "code",
   "execution_count": 79,
   "metadata": {},
   "outputs": [
    {
     "data": {
      "text/plain": [
       "('2012',\n",
       " ['192',\n",
       "  'Amazing',\n",
       "  'Sound Shapes',\n",
       "  '/games/sound-shapes-queasy-games/ps4-20007461',\n",
       "  'PlayStation 4',\n",
       "  '9.0',\n",
       "  'Platformer',\n",
       "  'Y',\n",
       "  '2012',\n",
       "  '8',\n",
       "  '8'])"
      ]
     },
     "execution_count": 79,
     "metadata": {},
     "output_type": "execute_result"
    }
   ],
   "source": [
    "ps4rdd = gameInfosRdd.filter(lambda gi: gi[PLATFORM] == \"PlayStation 4\").\\\n",
    "    keyBy(lambda gi: gi[RELEASE_YEAR])\n",
    "wiiUrdd = gameInfosRdd.filter(lambda gi: gi[PLATFORM] == \"Wii U\").\\\n",
    "    keyBy(lambda gi: gi[RELEASE_YEAR])\n",
    "xbOnerdd = gameInfosRdd.filter(lambda gi: gi[PLATFORM] == \"Xbox One\").\\\n",
    "    keyBy(lambda gi: gi[RELEASE_YEAR])\n",
    "\n",
    "ps4rdd.first()"
   ]
  },
  {
   "cell_type": "code",
   "execution_count": 67,
   "metadata": {},
   "outputs": [
    {
     "data": {
      "text/plain": [
       "('2014',\n",
       " ((['17452',\n",
       "    'Amazing',\n",
       "    'Tomb Raider: Definitive Edition',\n",
       "    '/games/tomb-raider-definitive-edition/ps4-20009692',\n",
       "    'PlayStation 4',\n",
       "    '9.1',\n",
       "    'Action',\n",
       "    'Y',\n",
       "    '2014',\n",
       "    '1',\n",
       "    '25'],\n",
       "   ['17489',\n",
       "    'Good',\n",
       "    'Dr. Luigi',\n",
       "    '/games/dr-luigi/wii-u-20010245',\n",
       "    'Wii U',\n",
       "    '7.5',\n",
       "    'Puzzle',\n",
       "    'N',\n",
       "    '2014',\n",
       "    '1',\n",
       "    '10']),\n",
       "  ['17451',\n",
       "   'Amazing',\n",
       "   'Tomb Raider: Definitive Edition',\n",
       "   '/games/tomb-raider-definitive-edition/xbox-one-20009691',\n",
       "   'Xbox One',\n",
       "   '9.1',\n",
       "   'Action',\n",
       "   'Y',\n",
       "   '2014',\n",
       "   '1',\n",
       "   '25']))"
      ]
     },
     "execution_count": 67,
     "metadata": {},
     "output_type": "execute_result"
    }
   ],
   "source": [
    "#Jaki tu będzie typ wyniku?\n",
    "alljoin = ps4rdd.join(wiiUrdd).join(xbOnerdd)\n",
    "alljoin.first()"
   ]
  },
  {
   "cell_type": "code",
   "execution_count": 71,
   "metadata": {},
   "outputs": [
    {
     "data": {
      "text/plain": [
       "[('2013', (34, 44, 23)), ('2014', (84, 23, 59))]"
      ]
     },
     "execution_count": 71,
     "metadata": {},
     "output_type": "execute_result"
    }
   ],
   "source": [
    "ps4rdd.mapValues(lambda gi: 1).reduceByKey(lambda x, y: x + y).\\\n",
    "join(wiiUrdd.mapValues(lambda gi: 1).reduceByKey(lambda x, y: x + y)).\\\n",
    "join(xbOnerdd.mapValues(lambda gi: 1).reduceByKey(lambda x, y: x + y)).\\\n",
    "mapValues(lambda x: (x[0][0], x[0][1], x[1])).take(2)"
   ]
  },
  {
   "cell_type": "code",
   "execution_count": 74,
   "metadata": {},
   "outputs": [
    {
     "data": {
      "text/plain": [
       "[(1, ('Alice', 25)), (1, ('David', 25)), (2, ('Bob', 30))]"
      ]
     },
     "execution_count": 74,
     "metadata": {},
     "output_type": "execute_result"
    }
   ],
   "source": [
    "rdd1 = sc.parallelize([(1, \"Alice\"), (2, \"Bob\"), (3, \"Charlie\"), (1, \"David\")])\n",
    "rdd2 = sc.parallelize([(1, 25), (2, 30), (3, 22)])\n",
    "\n",
    "# Perform join operation\n",
    "rdd1.join(rdd2).take(3)"
   ]
  }
 ],
 "metadata": {
  "kernelspec": {
   "display_name": "Python 3",
   "language": "python",
   "name": "python3"
  },
  "language_info": {
   "codemirror_mode": {
    "name": "ipython",
    "version": 3
   },
   "file_extension": ".py",
   "mimetype": "text/x-python",
   "name": "python",
   "nbconvert_exporter": "python",
   "pygments_lexer": "ipython3",
   "version": "3.9.4"
  }
 },
 "nbformat": 4,
 "nbformat_minor": 2
}
